{
 "cells": [
  {
   "cell_type": "code",
   "execution_count": 109,
   "id": "2f40bfeb-1036-482f-ae09-f3ecdbb853c1",
   "metadata": {},
   "outputs": [],
   "source": [
    "import numpy as np\n",
    "import pandas as pd\n",
    "import pickle as pkl\n",
    "import json\n",
    "import time\n",
    "\n",
    "import matplotlib.pyplot as plt\n",
    "import seaborn as sns\n",
    "import warnings\n",
    "\n",
    "from sklearn.feature_selection import mutual_info_classif,f_classif,chi2,SelectKBest\n",
    "from skfeature.function.similarity_based import fisher_score\n",
    "\n",
    "from sklearn.preprocessing import MinMaxScaler,StandardScaler,LabelEncoder\n",
    "from imblearn.over_sampling import SMOTE,RandomOverSampler\n",
    "\n",
    "from sklearn.model_selection import train_test_split,GridSearchCV,RandomizedSearchCV\n",
    "from sklearn.linear_model import LogisticRegression\n",
    "from sklearn.tree import DecisionTreeClassifier\n",
    "from sklearn.ensemble import RandomForestClassifier\n",
    "from sklearn.svm import SVC\n",
    "import xgboost\n",
    "\n",
    "from sklearn.metrics import accuracy_score,confusion_matrix,classification_report,plot_roc_curve,roc_auc_score,roc_curve"
   ]
  },
  {
   "cell_type": "markdown",
   "id": "b3db3e6d-1783-432b-8ffa-c47ddb4d71d5",
   "metadata": {},
   "source": [
    "# 1) Problem Statement\n",
    "\n",
    "Gharkul Housing Finance company deals in all home loans. They have a presence across all urban, semi-urban and rural areas. Customers first apply for a home loan after that company validates the customer’s eligibility for a loan. The company wants to automate the loan eligibility process (real-time) based on customer detail provided while filling out the online application form. These details are Gender, Marital Status, Education, Number of Dependents, Income, Loan Amount, Credit History, and others. To automate this process, they have given a problem to identify the customer segments, that are eligible for loan amounts so that they can specifically target these customers."
   ]
  },
  {
   "cell_type": "markdown",
   "id": "3cb68cd5-1727-49cf-8124-204c78d6028e",
   "metadata": {},
   "source": [
    "# 2) Data Collection"
   ]
  },
  {
   "cell_type": "code",
   "execution_count": 110,
   "id": "e32b9a3f-3b77-488b-817e-3ac8ec40543c",
   "metadata": {},
   "outputs": [],
   "source": [
    "df_lp=pd.read_csv(r'C:\\Users\\Omkar\\Desktop\\Practice\\Datasets\\Loan Prediction\\Loan_Prediction.csv')\n",
    "df=df_lp.copy()                       ### Creating copy of main dataset so that if we need original dataset for any reference we can get it as it is."
   ]
  },
  {
   "cell_type": "code",
   "execution_count": 111,
   "id": "6363d0ce-5c34-4a89-ba65-9bc3b534ce7a",
   "metadata": {},
   "outputs": [
    {
     "data": {
      "text/html": [
       "<div>\n",
       "<style scoped>\n",
       "    .dataframe tbody tr th:only-of-type {\n",
       "        vertical-align: middle;\n",
       "    }\n",
       "\n",
       "    .dataframe tbody tr th {\n",
       "        vertical-align: top;\n",
       "    }\n",
       "\n",
       "    .dataframe thead th {\n",
       "        text-align: right;\n",
       "    }\n",
       "</style>\n",
       "<table border=\"1\" class=\"dataframe\">\n",
       "  <thead>\n",
       "    <tr style=\"text-align: right;\">\n",
       "      <th></th>\n",
       "      <th>Loan_ID</th>\n",
       "      <th>Gender</th>\n",
       "      <th>Married</th>\n",
       "      <th>Dependents</th>\n",
       "      <th>Education</th>\n",
       "      <th>Self_Employed</th>\n",
       "      <th>ApplicantIncome</th>\n",
       "      <th>CoapplicantIncome</th>\n",
       "      <th>LoanAmount</th>\n",
       "      <th>Loan_Amount_Term</th>\n",
       "      <th>Credit_History</th>\n",
       "      <th>Property_Area</th>\n",
       "      <th>Loan_Status</th>\n",
       "    </tr>\n",
       "  </thead>\n",
       "  <tbody>\n",
       "    <tr>\n",
       "      <th>0</th>\n",
       "      <td>LP001002</td>\n",
       "      <td>Male</td>\n",
       "      <td>No</td>\n",
       "      <td>0</td>\n",
       "      <td>Graduate</td>\n",
       "      <td>No</td>\n",
       "      <td>5849</td>\n",
       "      <td>0.0</td>\n",
       "      <td>NaN</td>\n",
       "      <td>360.0</td>\n",
       "      <td>1.0</td>\n",
       "      <td>Urban</td>\n",
       "      <td>Y</td>\n",
       "    </tr>\n",
       "    <tr>\n",
       "      <th>1</th>\n",
       "      <td>LP001003</td>\n",
       "      <td>Male</td>\n",
       "      <td>Yes</td>\n",
       "      <td>1</td>\n",
       "      <td>Graduate</td>\n",
       "      <td>No</td>\n",
       "      <td>4583</td>\n",
       "      <td>1508.0</td>\n",
       "      <td>128.0</td>\n",
       "      <td>360.0</td>\n",
       "      <td>1.0</td>\n",
       "      <td>Rural</td>\n",
       "      <td>N</td>\n",
       "    </tr>\n",
       "    <tr>\n",
       "      <th>2</th>\n",
       "      <td>LP001005</td>\n",
       "      <td>Male</td>\n",
       "      <td>Yes</td>\n",
       "      <td>0</td>\n",
       "      <td>Graduate</td>\n",
       "      <td>Yes</td>\n",
       "      <td>3000</td>\n",
       "      <td>0.0</td>\n",
       "      <td>66.0</td>\n",
       "      <td>360.0</td>\n",
       "      <td>1.0</td>\n",
       "      <td>Urban</td>\n",
       "      <td>Y</td>\n",
       "    </tr>\n",
       "    <tr>\n",
       "      <th>3</th>\n",
       "      <td>LP001006</td>\n",
       "      <td>Male</td>\n",
       "      <td>Yes</td>\n",
       "      <td>0</td>\n",
       "      <td>Not Graduate</td>\n",
       "      <td>No</td>\n",
       "      <td>2583</td>\n",
       "      <td>2358.0</td>\n",
       "      <td>120.0</td>\n",
       "      <td>360.0</td>\n",
       "      <td>1.0</td>\n",
       "      <td>Urban</td>\n",
       "      <td>Y</td>\n",
       "    </tr>\n",
       "    <tr>\n",
       "      <th>4</th>\n",
       "      <td>LP001008</td>\n",
       "      <td>Male</td>\n",
       "      <td>No</td>\n",
       "      <td>0</td>\n",
       "      <td>Graduate</td>\n",
       "      <td>No</td>\n",
       "      <td>6000</td>\n",
       "      <td>0.0</td>\n",
       "      <td>141.0</td>\n",
       "      <td>360.0</td>\n",
       "      <td>1.0</td>\n",
       "      <td>Urban</td>\n",
       "      <td>Y</td>\n",
       "    </tr>\n",
       "    <tr>\n",
       "      <th>...</th>\n",
       "      <td>...</td>\n",
       "      <td>...</td>\n",
       "      <td>...</td>\n",
       "      <td>...</td>\n",
       "      <td>...</td>\n",
       "      <td>...</td>\n",
       "      <td>...</td>\n",
       "      <td>...</td>\n",
       "      <td>...</td>\n",
       "      <td>...</td>\n",
       "      <td>...</td>\n",
       "      <td>...</td>\n",
       "      <td>...</td>\n",
       "    </tr>\n",
       "    <tr>\n",
       "      <th>609</th>\n",
       "      <td>LP002978</td>\n",
       "      <td>Female</td>\n",
       "      <td>No</td>\n",
       "      <td>0</td>\n",
       "      <td>Graduate</td>\n",
       "      <td>No</td>\n",
       "      <td>2900</td>\n",
       "      <td>0.0</td>\n",
       "      <td>71.0</td>\n",
       "      <td>360.0</td>\n",
       "      <td>1.0</td>\n",
       "      <td>Rural</td>\n",
       "      <td>Y</td>\n",
       "    </tr>\n",
       "    <tr>\n",
       "      <th>610</th>\n",
       "      <td>LP002979</td>\n",
       "      <td>Male</td>\n",
       "      <td>Yes</td>\n",
       "      <td>3+</td>\n",
       "      <td>Graduate</td>\n",
       "      <td>No</td>\n",
       "      <td>4106</td>\n",
       "      <td>0.0</td>\n",
       "      <td>40.0</td>\n",
       "      <td>180.0</td>\n",
       "      <td>1.0</td>\n",
       "      <td>Rural</td>\n",
       "      <td>Y</td>\n",
       "    </tr>\n",
       "    <tr>\n",
       "      <th>611</th>\n",
       "      <td>LP002983</td>\n",
       "      <td>Male</td>\n",
       "      <td>Yes</td>\n",
       "      <td>1</td>\n",
       "      <td>Graduate</td>\n",
       "      <td>No</td>\n",
       "      <td>8072</td>\n",
       "      <td>240.0</td>\n",
       "      <td>253.0</td>\n",
       "      <td>360.0</td>\n",
       "      <td>1.0</td>\n",
       "      <td>Urban</td>\n",
       "      <td>Y</td>\n",
       "    </tr>\n",
       "    <tr>\n",
       "      <th>612</th>\n",
       "      <td>LP002984</td>\n",
       "      <td>Male</td>\n",
       "      <td>Yes</td>\n",
       "      <td>2</td>\n",
       "      <td>Graduate</td>\n",
       "      <td>No</td>\n",
       "      <td>7583</td>\n",
       "      <td>0.0</td>\n",
       "      <td>187.0</td>\n",
       "      <td>360.0</td>\n",
       "      <td>1.0</td>\n",
       "      <td>Urban</td>\n",
       "      <td>Y</td>\n",
       "    </tr>\n",
       "    <tr>\n",
       "      <th>613</th>\n",
       "      <td>LP002990</td>\n",
       "      <td>Female</td>\n",
       "      <td>No</td>\n",
       "      <td>0</td>\n",
       "      <td>Graduate</td>\n",
       "      <td>Yes</td>\n",
       "      <td>4583</td>\n",
       "      <td>0.0</td>\n",
       "      <td>133.0</td>\n",
       "      <td>360.0</td>\n",
       "      <td>0.0</td>\n",
       "      <td>Semiurban</td>\n",
       "      <td>N</td>\n",
       "    </tr>\n",
       "  </tbody>\n",
       "</table>\n",
       "<p>614 rows × 13 columns</p>\n",
       "</div>"
      ],
      "text/plain": [
       "      Loan_ID  Gender Married Dependents     Education Self_Employed  \\\n",
       "0    LP001002    Male      No          0      Graduate            No   \n",
       "1    LP001003    Male     Yes          1      Graduate            No   \n",
       "2    LP001005    Male     Yes          0      Graduate           Yes   \n",
       "3    LP001006    Male     Yes          0  Not Graduate            No   \n",
       "4    LP001008    Male      No          0      Graduate            No   \n",
       "..        ...     ...     ...        ...           ...           ...   \n",
       "609  LP002978  Female      No          0      Graduate            No   \n",
       "610  LP002979    Male     Yes         3+      Graduate            No   \n",
       "611  LP002983    Male     Yes          1      Graduate            No   \n",
       "612  LP002984    Male     Yes          2      Graduate            No   \n",
       "613  LP002990  Female      No          0      Graduate           Yes   \n",
       "\n",
       "     ApplicantIncome  CoapplicantIncome  LoanAmount  Loan_Amount_Term  \\\n",
       "0               5849                0.0         NaN             360.0   \n",
       "1               4583             1508.0       128.0             360.0   \n",
       "2               3000                0.0        66.0             360.0   \n",
       "3               2583             2358.0       120.0             360.0   \n",
       "4               6000                0.0       141.0             360.0   \n",
       "..               ...                ...         ...               ...   \n",
       "609             2900                0.0        71.0             360.0   \n",
       "610             4106                0.0        40.0             180.0   \n",
       "611             8072              240.0       253.0             360.0   \n",
       "612             7583                0.0       187.0             360.0   \n",
       "613             4583                0.0       133.0             360.0   \n",
       "\n",
       "     Credit_History Property_Area Loan_Status  \n",
       "0               1.0         Urban           Y  \n",
       "1               1.0         Rural           N  \n",
       "2               1.0         Urban           Y  \n",
       "3               1.0         Urban           Y  \n",
       "4               1.0         Urban           Y  \n",
       "..              ...           ...         ...  \n",
       "609             1.0         Rural           Y  \n",
       "610             1.0         Rural           Y  \n",
       "611             1.0         Urban           Y  \n",
       "612             1.0         Urban           Y  \n",
       "613             0.0     Semiurban           N  \n",
       "\n",
       "[614 rows x 13 columns]"
      ]
     },
     "execution_count": 111,
     "metadata": {},
     "output_type": "execute_result"
    }
   ],
   "source": [
    "df"
   ]
  },
  {
   "cell_type": "markdown",
   "id": "0195855d-688f-47b6-9520-9cf213de941e",
   "metadata": {},
   "source": [
    "# 3) EDA"
   ]
  },
  {
   "cell_type": "code",
   "execution_count": 112,
   "id": "d0b6a11c-83ea-4a69-b8b7-a6845fe76c06",
   "metadata": {},
   "outputs": [
    {
     "name": "stdout",
     "output_type": "stream",
     "text": [
      "<class 'pandas.core.frame.DataFrame'>\n",
      "RangeIndex: 614 entries, 0 to 613\n",
      "Data columns (total 13 columns):\n",
      " #   Column             Non-Null Count  Dtype  \n",
      "---  ------             --------------  -----  \n",
      " 0   Loan_ID            614 non-null    object \n",
      " 1   Gender             601 non-null    object \n",
      " 2   Married            611 non-null    object \n",
      " 3   Dependents         599 non-null    object \n",
      " 4   Education          614 non-null    object \n",
      " 5   Self_Employed      582 non-null    object \n",
      " 6   ApplicantIncome    614 non-null    int64  \n",
      " 7   CoapplicantIncome  614 non-null    float64\n",
      " 8   LoanAmount         592 non-null    float64\n",
      " 9   Loan_Amount_Term   600 non-null    float64\n",
      " 10  Credit_History     564 non-null    float64\n",
      " 11  Property_Area      614 non-null    object \n",
      " 12  Loan_Status        614 non-null    object \n",
      "dtypes: float64(4), int64(1), object(8)\n",
      "memory usage: 62.5+ KB\n"
     ]
    }
   ],
   "source": [
    "# Check whether all the features has the int or float datatype\n",
    "\n",
    "df.info()"
   ]
  },
  {
   "cell_type": "markdown",
   "id": "559bdddc-a65a-4fed-93cf-5eff96456186",
   "metadata": {},
   "source": [
    "### Univariate Analysis"
   ]
  },
  {
   "cell_type": "code",
   "execution_count": 113,
   "id": "36b6b99a-a0e9-4eba-b0ee-c140055f9daf",
   "metadata": {},
   "outputs": [
    {
     "data": {
      "image/png": "[encoded data removed]",
      "text/plain": [
       "<Figure size 1440x720 with 7 Axes>"
      ]
     },
     "metadata": {
      "needs_background": "light"
     },
     "output_type": "display_data"
    }
   ],
   "source": [
    "plt.subplot(331) \n",
    "df['Gender'].value_counts(normalize=True).plot.bar(figsize=(20,10), title= 'Gender')  \n",
    "plt.subplot(332) \n",
    "df['Married'].value_counts(normalize=True).plot.bar(title= 'Married')                  \n",
    "plt.subplot(333) \n",
    "df['Self_Employed'].value_counts(normalize=True).plot.bar(title= 'Self_Employed')     \n",
    "plt.subplot(334) \n",
    "df['Dependents'].value_counts(normalize=True).plot.bar(title= 'Dependents')            \n",
    "plt.subplot(335) \n",
    "df['Education'].value_counts(normalize=True).plot.bar(title= 'Education')              \n",
    "plt.subplot(336) \n",
    "df['Credit_History'].value_counts(normalize=True).plot.bar(title= 'Credit_History')\n",
    "plt.subplot(337) \n",
    "df['Property_Area'].value_counts(normalize=True).plot.bar(title= 'Property_Area')\n",
    "plt.show()"
   ]
  },
  {
   "cell_type": "markdown",
   "id": "84d3ef0b-dad2-429b-aac4-9fbeaadee6d9",
   "metadata": {},
   "source": [
    "##### Conclusion of Univariate Analysis\n",
    "##### about 80% of the applicants are Males and 20% are Females\n",
    "##### about 60% of the applicants are Married and 40% are Single\n",
    "##### about 85% of the applicants are Not self employed and 15% are self employed\n",
    "##### about 60% applicants have no responsibility of child where only 10% applicants are raising more than 3 children\n",
    "##### it is good to see that 80% applicants are graduated\n",
    "##### about 85% applicants repaid the previous debt while rest did not\n",
    "##### talking about property area possessed by applicants they are all equally shared."
   ]
  },
  {
   "cell_type": "markdown",
   "id": "8a5d69a7-5e57-4892-9867-94e28374cea5",
   "metadata": {},
   "source": [
    "### Bivariate Analysis\n",
    "In univariate analysis we could tell the proportions of applicants with respect to only one parameter. But in reality whether those proportions are feasible to get loan or not ? What combinations are needed in applicants in order to get loan? Such qustions can be answered by bivariate analysis where we will compare important feature with target column. "
   ]
  },
  {
   "cell_type": "code",
   "execution_count": 114,
   "id": "9ea7a0e2-6a54-4146-9a72-d571c612b0bb",
   "metadata": {},
   "outputs": [
    {
     "data": {
      "image/png": "[encoded data removed]",
      "text/plain": [
       "<Figure size 432x288 with 1 Axes>"
      ]
     },
     "metadata": {
      "needs_background": "light"
     },
     "output_type": "display_data"
    },
    {
     "data": {
      "image/png": "[encoded data removed]",
      "text/plain": [
       "<Figure size 432x288 with 1 Axes>"
      ]
     },
     "metadata": {
      "needs_background": "light"
     },
     "output_type": "display_data"
    },
    {
     "data": {
      "image/png": "[encoded data removed]",
      "text/plain": [
       "<Figure size 432x288 with 1 Axes>"
      ]
     },
     "metadata": {
      "needs_background": "light"
     },
     "output_type": "display_data"
    },
    {
     "data": {
      "image/png": "[encoded data removed]",
      "text/plain": [
       "<Figure size 432x288 with 1 Axes>"
      ]
     },
     "metadata": {
      "needs_background": "light"
     },
     "output_type": "display_data"
    },
    {
     "data": {
      "image/png": "[encoded data removed]",
      "text/plain": [
       "<Figure size 432x288 with 1 Axes>"
      ]
     },
     "metadata": {
      "needs_background": "light"
     },
     "output_type": "display_data"
    },
    {
     "data": {
      "image/png": "[encoded data removed]",
      "text/plain": [
       "<Figure size 432x288 with 1 Axes>"
      ]
     },
     "metadata": {
      "needs_background": "light"
     },
     "output_type": "display_data"
    },
    {
     "data": {
      "image/png": "[encoded data removed]",
      "text/plain": [
       "<Figure size 432x288 with 1 Axes>"
      ]
     },
     "metadata": {
      "needs_background": "light"
     },
     "output_type": "display_data"
    }
   ],
   "source": [
    "Gender=pd.crosstab(df['Gender'],df['Loan_Status'])\n",
    "Married=pd.crosstab(df['Married'],df['Loan_Status'])\n",
    "Self_Employed=pd.crosstab(df['Self_Employed'],df['Loan_Status'])\n",
    "Dependents=pd.crosstab(df['Dependents'],df['Loan_Status'])\n",
    "Education=pd.crosstab(df['Education'],df['Loan_Status'])\n",
    "Credit_History=pd.crosstab(df['Credit_History'],df['Loan_Status'])\n",
    "Property_Area=pd.crosstab(df['Property_Area'],df['Loan_Status'])\n",
    " \n",
    "Gender.div(Gender.sum(1),axis=0).plot.bar(stacked=True)\n",
    "plt.show()\n",
    "Married.div(Married.sum(1),axis=0).plot.bar(stacked=True)\n",
    "plt.show()\n",
    "Self_Employed.div(Self_Employed.sum(1),axis=0).plot.bar(stacked=True)\n",
    "plt.show()\n",
    "Dependents.div(Dependents.sum(1),axis=0).plot.bar(stacked=True)\n",
    "plt.show()\n",
    "Education.div(Education.sum(1),axis=0).plot.bar(stacked=True)\n",
    "plt.show()\n",
    "Credit_History.div(Credit_History.sum(1),axis=0).plot.bar(stacked=True)\n",
    "plt.show()\n",
    "Property_Area.div(Property_Area.sum(1),axis=0).plot.bar(stacked=True)\n",
    "plt.show()"
   ]
  },
  {
   "cell_type": "markdown",
   "id": "9c84e68f-8f79-48d4-b337-b62adce75b24",
   "metadata": {},
   "source": [
    "#### Conclusion of Bivariate Analysis\n",
    "##### The loan approved equally based on Gender, type of employment\n",
    "##### The preference for loan approval is given to applicants who are married, who have repaid earlier debts, who are graduate and hold property in semiurban area"
   ]
  },
  {
   "cell_type": "markdown",
   "id": "69b1461a-fbea-49e1-a162-5e7650f6b2e9",
   "metadata": {},
   "source": [
    "#### So far we have focussed on fetaures which have classification data now we will try to analyse the features with continuous data"
   ]
  },
  {
   "cell_type": "code",
   "execution_count": 115,
   "id": "3f0892e1-0194-49ea-8e52-de9798dcc680",
   "metadata": {},
   "outputs": [
    {
     "data": {
      "text/plain": [
       "Index(['Loan_ID', 'Gender', 'Married', 'Dependents', 'Education',\n",
       "       'Self_Employed', 'ApplicantIncome', 'CoapplicantIncome', 'LoanAmount',\n",
       "       'Loan_Amount_Term', 'Credit_History', 'Property_Area', 'Loan_Status'],\n",
       "      dtype='object')"
      ]
     },
     "execution_count": 115,
     "metadata": {},
     "output_type": "execute_result"
    }
   ],
   "source": [
    "df.columns"
   ]
  },
  {
   "cell_type": "code",
   "execution_count": 116,
   "id": "5c09268f-4021-42d8-bd37-5b80241104f7",
   "metadata": {},
   "outputs": [
    {
     "data": {
      "text/plain": [
       "Text(0, 0.5, 'Percentage')"
      ]
     },
     "execution_count": 116,
     "metadata": {},
     "output_type": "execute_result"
    },
    {
     "data": {
      "image/png": "[encoded data removed]",
      "text/plain": [
       "<Figure size 432x288 with 1 Axes>"
      ]
     },
     "metadata": {
      "needs_background": "light"
     },
     "output_type": "display_data"
    }
   ],
   "source": [
    "## We will find the mean value of the features at which loan is approved\n",
    "\n",
    "df['ApplicantIncome'].groupby(df['Loan_Status']).get_group('Y').mean()           ## Mean income of applicants whose loan was aprroved is 5384\n",
    "bins=[0,5384,df['ApplicantIncome'].max()]\n",
    "groups=['Below_Avg','Above_Avg']\n",
    "split_ai=pd.cut(df['ApplicantIncome'],bins=bins,labels=groups)\n",
    "\n",
    "split_ai_crtb=pd.crosstab(split_ai,df['Loan_Status']) \n",
    "split_ai_crtb.div(split_ai_crtb.sum(1), axis=0).plot(kind=\"bar\", stacked=True) \n",
    "plt.xlabel('Applicants Income') \n",
    "plt.ylabel('Percentage')"
   ]
  },
  {
   "cell_type": "code",
   "execution_count": 117,
   "id": "0440b4b9-b3e8-4821-ba9c-97e6a2241406",
   "metadata": {},
   "outputs": [
    {
     "data": {
      "text/plain": [
       "Text(0, 0.5, 'Percentage')"
      ]
     },
     "execution_count": 117,
     "metadata": {},
     "output_type": "execute_result"
    },
    {
     "data": {
      "image/png": "[encoded data removed]",
      "text/plain": [
       "<Figure size 432x288 with 1 Axes>"
      ]
     },
     "metadata": {
      "needs_background": "light"
     },
     "output_type": "display_data"
    }
   ],
   "source": [
    "df['CoapplicantIncome'].groupby(df['Loan_Status']).get_group('Y').mean()    ## Mean income of Coapplicants whose loan was aprroved is 1504\n",
    "bins=[0,1504,df['CoapplicantIncome'].max()]\n",
    "groups=['Below_Avg','Above_Avg']\n",
    "split_cai=pd.cut(df['CoapplicantIncome'],bins=bins,labels=groups)\n",
    "\n",
    "split_cai_crtb=pd.crosstab(split_cai,df['Loan_Status']) \n",
    "split_cai_crtb.div(split_cai_crtb.sum(1), axis=0).plot(kind=\"bar\", stacked=True) \n",
    "plt.xlabel('Capplicants Income') \n",
    "plt.ylabel('Percentage')"
   ]
  },
  {
   "cell_type": "markdown",
   "id": "3df1feec-f2af-48e5-873c-e17caa16237e",
   "metadata": {},
   "source": [
    "#### It is quiet strange to note that loan approval has no effect on the income of the applicant. Whereas the loan approval is easy for appicants whose coapplicant has less income than average income of coapplicants."
   ]
  },
  {
   "cell_type": "markdown",
   "id": "862d4167-0ac4-4a2b-8d13-5521f9c2308d",
   "metadata": {},
   "source": [
    "### Changing the data types of features"
   ]
  },
  {
   "cell_type": "code",
   "execution_count": 118,
   "id": "33007a7f-0107-40b6-b923-1c9487d11935",
   "metadata": {},
   "outputs": [],
   "source": [
    "# Many of the features do not have proper datatype so we have to access each feature and change its datatype"
   ]
  },
  {
   "cell_type": "code",
   "execution_count": 119,
   "id": "e625f088-95d1-417f-b3a8-132d68b4dae2",
   "metadata": {},
   "outputs": [
    {
     "data": {
      "text/plain": [
       "Male      489\n",
       "Female    112\n",
       "Name: Gender, dtype: int64"
      ]
     },
     "execution_count": 119,
     "metadata": {},
     "output_type": "execute_result"
    }
   ],
   "source": [
    "df['Gender'].value_counts()    ## Feature contains classification data which is nominal hence we can use one hot encoding technique to convert datatype"
   ]
  },
  {
   "cell_type": "code",
   "execution_count": 120,
   "id": "d6081951-8725-4c4b-bfa0-3f98ee28bff7",
   "metadata": {},
   "outputs": [
    {
     "data": {
      "text/html": [
       "<div>\n",
       "<style scoped>\n",
       "    .dataframe tbody tr th:only-of-type {\n",
       "        vertical-align: middle;\n",
       "    }\n",
       "\n",
       "    .dataframe tbody tr th {\n",
       "        vertical-align: top;\n",
       "    }\n",
       "\n",
       "    .dataframe thead th {\n",
       "        text-align: right;\n",
       "    }\n",
       "</style>\n",
       "<table border=\"1\" class=\"dataframe\">\n",
       "  <thead>\n",
       "    <tr style=\"text-align: right;\">\n",
       "      <th></th>\n",
       "      <th>ohe_Female</th>\n",
       "      <th>ohe_Male</th>\n",
       "    </tr>\n",
       "  </thead>\n",
       "  <tbody>\n",
       "    <tr>\n",
       "      <th>0</th>\n",
       "      <td>0</td>\n",
       "      <td>1</td>\n",
       "    </tr>\n",
       "    <tr>\n",
       "      <th>1</th>\n",
       "      <td>0</td>\n",
       "      <td>1</td>\n",
       "    </tr>\n",
       "    <tr>\n",
       "      <th>2</th>\n",
       "      <td>0</td>\n",
       "      <td>1</td>\n",
       "    </tr>\n",
       "    <tr>\n",
       "      <th>3</th>\n",
       "      <td>0</td>\n",
       "      <td>1</td>\n",
       "    </tr>\n",
       "    <tr>\n",
       "      <th>4</th>\n",
       "      <td>0</td>\n",
       "      <td>1</td>\n",
       "    </tr>\n",
       "    <tr>\n",
       "      <th>...</th>\n",
       "      <td>...</td>\n",
       "      <td>...</td>\n",
       "    </tr>\n",
       "    <tr>\n",
       "      <th>609</th>\n",
       "      <td>1</td>\n",
       "      <td>0</td>\n",
       "    </tr>\n",
       "    <tr>\n",
       "      <th>610</th>\n",
       "      <td>0</td>\n",
       "      <td>1</td>\n",
       "    </tr>\n",
       "    <tr>\n",
       "      <th>611</th>\n",
       "      <td>0</td>\n",
       "      <td>1</td>\n",
       "    </tr>\n",
       "    <tr>\n",
       "      <th>612</th>\n",
       "      <td>0</td>\n",
       "      <td>1</td>\n",
       "    </tr>\n",
       "    <tr>\n",
       "      <th>613</th>\n",
       "      <td>1</td>\n",
       "      <td>0</td>\n",
       "    </tr>\n",
       "  </tbody>\n",
       "</table>\n",
       "<p>614 rows × 2 columns</p>\n",
       "</div>"
      ],
      "text/plain": [
       "     ohe_Female  ohe_Male\n",
       "0             0         1\n",
       "1             0         1\n",
       "2             0         1\n",
       "3             0         1\n",
       "4             0         1\n",
       "..          ...       ...\n",
       "609           1         0\n",
       "610           0         1\n",
       "611           0         1\n",
       "612           0         1\n",
       "613           1         0\n",
       "\n",
       "[614 rows x 2 columns]"
      ]
     },
     "execution_count": 120,
     "metadata": {},
     "output_type": "execute_result"
    }
   ],
   "source": [
    "df_ohe_gender=pd.get_dummies(df['Gender'],prefix='ohe')\n",
    "df_ohe_gender"
   ]
  },
  {
   "cell_type": "code",
   "execution_count": 121,
   "id": "a75240bb-677b-43cd-a3ba-e4b42f53722e",
   "metadata": {},
   "outputs": [
    {
     "data": {
      "text/plain": [
       "Yes    398\n",
       "No     213\n",
       "Name: Married, dtype: int64"
      ]
     },
     "execution_count": 121,
     "metadata": {},
     "output_type": "execute_result"
    }
   ],
   "source": [
    "df['Married'].value_counts()   ## Feature contains classification data which is nominal hence we can use one hot encoding technique to convert datatype"
   ]
  },
  {
   "cell_type": "code",
   "execution_count": 122,
   "id": "4f77405a-65c2-4923-a0b5-9630b9a01c08",
   "metadata": {},
   "outputs": [
    {
     "data": {
      "text/html": [
       "<div>\n",
       "<style scoped>\n",
       "    .dataframe tbody tr th:only-of-type {\n",
       "        vertical-align: middle;\n",
       "    }\n",
       "\n",
       "    .dataframe tbody tr th {\n",
       "        vertical-align: top;\n",
       "    }\n",
       "\n",
       "    .dataframe thead th {\n",
       "        text-align: right;\n",
       "    }\n",
       "</style>\n",
       "<table border=\"1\" class=\"dataframe\">\n",
       "  <thead>\n",
       "    <tr style=\"text-align: right;\">\n",
       "      <th></th>\n",
       "      <th>ohe_No</th>\n",
       "      <th>ohe_Yes</th>\n",
       "    </tr>\n",
       "  </thead>\n",
       "  <tbody>\n",
       "    <tr>\n",
       "      <th>0</th>\n",
       "      <td>1</td>\n",
       "      <td>0</td>\n",
       "    </tr>\n",
       "    <tr>\n",
       "      <th>1</th>\n",
       "      <td>0</td>\n",
       "      <td>1</td>\n",
       "    </tr>\n",
       "    <tr>\n",
       "      <th>2</th>\n",
       "      <td>0</td>\n",
       "      <td>1</td>\n",
       "    </tr>\n",
       "    <tr>\n",
       "      <th>3</th>\n",
       "      <td>0</td>\n",
       "      <td>1</td>\n",
       "    </tr>\n",
       "    <tr>\n",
       "      <th>4</th>\n",
       "      <td>1</td>\n",
       "      <td>0</td>\n",
       "    </tr>\n",
       "    <tr>\n",
       "      <th>...</th>\n",
       "      <td>...</td>\n",
       "      <td>...</td>\n",
       "    </tr>\n",
       "    <tr>\n",
       "      <th>609</th>\n",
       "      <td>1</td>\n",
       "      <td>0</td>\n",
       "    </tr>\n",
       "    <tr>\n",
       "      <th>610</th>\n",
       "      <td>0</td>\n",
       "      <td>1</td>\n",
       "    </tr>\n",
       "    <tr>\n",
       "      <th>611</th>\n",
       "      <td>0</td>\n",
       "      <td>1</td>\n",
       "    </tr>\n",
       "    <tr>\n",
       "      <th>612</th>\n",
       "      <td>0</td>\n",
       "      <td>1</td>\n",
       "    </tr>\n",
       "    <tr>\n",
       "      <th>613</th>\n",
       "      <td>1</td>\n",
       "      <td>0</td>\n",
       "    </tr>\n",
       "  </tbody>\n",
       "</table>\n",
       "<p>614 rows × 2 columns</p>\n",
       "</div>"
      ],
      "text/plain": [
       "     ohe_No  ohe_Yes\n",
       "0         1        0\n",
       "1         0        1\n",
       "2         0        1\n",
       "3         0        1\n",
       "4         1        0\n",
       "..      ...      ...\n",
       "609       1        0\n",
       "610       0        1\n",
       "611       0        1\n",
       "612       0        1\n",
       "613       1        0\n",
       "\n",
       "[614 rows x 2 columns]"
      ]
     },
     "execution_count": 122,
     "metadata": {},
     "output_type": "execute_result"
    }
   ],
   "source": [
    "df_ohe_married=pd.get_dummies(df['Married'],prefix='ohe')\n",
    "df_ohe_married"
   ]
  },
  {
   "cell_type": "code",
   "execution_count": 123,
   "id": "947e245c-c8cd-48f6-beac-38824f6e862f",
   "metadata": {},
   "outputs": [
    {
     "data": {
      "text/plain": [
       "0     345\n",
       "1     102\n",
       "2     101\n",
       "3+     51\n",
       "Name: Dependents, dtype: int64"
      ]
     },
     "execution_count": 123,
     "metadata": {},
     "output_type": "execute_result"
    }
   ],
   "source": [
    "df['Dependents'].value_counts()     ## here the feature contains numerical discrete value except 3+ which may be the reason for dtype== object of this feature"
   ]
  },
  {
   "cell_type": "code",
   "execution_count": 124,
   "id": "b607751f-750b-4310-b7ab-cc343a0af745",
   "metadata": {},
   "outputs": [],
   "source": [
    "df['Dependents'].replace({'3+':3},inplace=True)"
   ]
  },
  {
   "cell_type": "code",
   "execution_count": 125,
   "id": "434d6f21-51f0-4efd-892f-1f7a1be387b0",
   "metadata": {},
   "outputs": [
    {
     "data": {
      "text/plain": [
       "0    345\n",
       "1    102\n",
       "2    101\n",
       "3     51\n",
       "Name: Dependents, dtype: int64"
      ]
     },
     "execution_count": 125,
     "metadata": {},
     "output_type": "execute_result"
    }
   ],
   "source": [
    "df['Dependents'].value_counts()"
   ]
  },
  {
   "cell_type": "code",
   "execution_count": 126,
   "id": "2b3c8db3-0049-4a7a-977b-1ea70a19c028",
   "metadata": {},
   "outputs": [
    {
     "data": {
      "text/plain": [
       "Graduate        480\n",
       "Not Graduate    134\n",
       "Name: Education, dtype: int64"
      ]
     },
     "execution_count": 126,
     "metadata": {},
     "output_type": "execute_result"
    }
   ],
   "source": [
    "df['Education'].value_counts()   ## here the feature contains classification items which are ordinal hence we can use label encoder or replace method"
   ]
  },
  {
   "cell_type": "code",
   "execution_count": 127,
   "id": "6623b6f2-4484-4467-9947-2e1ce349e003",
   "metadata": {},
   "outputs": [
    {
     "data": {
      "text/plain": [
       "2    480\n",
       "1    134\n",
       "Name: Education, dtype: int64"
      ]
     },
     "execution_count": 127,
     "metadata": {},
     "output_type": "execute_result"
    }
   ],
   "source": [
    "df['Education'].replace({'Graduate':2,'Not Graduate':1},inplace=True)\n",
    "df['Education'].value_counts()"
   ]
  },
  {
   "cell_type": "code",
   "execution_count": 128,
   "id": "64e2ed93-6847-4ec7-aa5b-c93b438bbebb",
   "metadata": {},
   "outputs": [
    {
     "data": {
      "text/plain": [
       "No     500\n",
       "Yes     82\n",
       "Name: Self_Employed, dtype: int64"
      ]
     },
     "execution_count": 128,
     "metadata": {},
     "output_type": "execute_result"
    }
   ],
   "source": [
    "df['Self_Employed'].value_counts()  ## here the feature contains classification items which are ordinal hence we can use label encoder or replace method"
   ]
  },
  {
   "cell_type": "code",
   "execution_count": 129,
   "id": "3a0e49d0-fc01-4f30-9f55-8182802f6851",
   "metadata": {},
   "outputs": [
    {
     "data": {
      "text/plain": [
       "2.0    500\n",
       "1.0     82\n",
       "Name: Self_Employed, dtype: int64"
      ]
     },
     "execution_count": 129,
     "metadata": {},
     "output_type": "execute_result"
    }
   ],
   "source": [
    "df['Self_Employed'].replace({'No':2,'Yes':1},inplace=True)\n",
    "df['Self_Employed'].value_counts()"
   ]
  },
  {
   "cell_type": "code",
   "execution_count": 130,
   "id": "a992d460-8f57-4e6c-b5b5-2b195180e7b5",
   "metadata": {},
   "outputs": [
    {
     "data": {
      "text/plain": [
       "Semiurban    233\n",
       "Urban        202\n",
       "Rural        179\n",
       "Name: Property_Area, dtype: int64"
      ]
     },
     "execution_count": 130,
     "metadata": {},
     "output_type": "execute_result"
    }
   ],
   "source": [
    "df['Property_Area'].value_counts()    ## here the feature contains classification items which are ordinal hence we can use label encoder or replace method"
   ]
  },
  {
   "cell_type": "code",
   "execution_count": 131,
   "id": "ddfa4625-1c51-44b2-9c06-d692971d090b",
   "metadata": {},
   "outputs": [
    {
     "data": {
      "text/plain": [
       "1    233\n",
       "2    202\n",
       "0    179\n",
       "Name: Property_Area, dtype: int64"
      ]
     },
     "execution_count": 131,
     "metadata": {},
     "output_type": "execute_result"
    }
   ],
   "source": [
    "df['Property_Area'].replace({'Semiurban':1,'Urban':2,'Rural':0},inplace=True)\n",
    "df['Property_Area'].value_counts()"
   ]
  },
  {
   "cell_type": "code",
   "execution_count": 132,
   "id": "d6c455f6-4096-46aa-a239-e4fb99e2ada1",
   "metadata": {},
   "outputs": [
    {
     "data": {
      "text/plain": [
       "Y    422\n",
       "N    192\n",
       "Name: Loan_Status, dtype: int64"
      ]
     },
     "execution_count": 132,
     "metadata": {},
     "output_type": "execute_result"
    }
   ],
   "source": [
    "df['Loan_Status'].value_counts()  ## Now this is the target column which again contains classification items hence we use Label Encoder"
   ]
  },
  {
   "cell_type": "code",
   "execution_count": 133,
   "id": "2a38455f-2a4f-4cc6-aac8-9a45b95e1040",
   "metadata": {},
   "outputs": [
    {
     "data": {
      "text/plain": [
       "1    422\n",
       "0    192\n",
       "Name: Loan_Status, dtype: int64"
      ]
     },
     "execution_count": 133,
     "metadata": {},
     "output_type": "execute_result"
    }
   ],
   "source": [
    "le=LabelEncoder()\n",
    "df['Loan_Status']=le.fit_transform(df['Loan_Status'])\n",
    "df['Loan_Status'].value_counts()"
   ]
  },
  {
   "cell_type": "markdown",
   "id": "80705bf2-7b32-42ff-af69-994a9eb5d530",
   "metadata": {},
   "source": [
    "#### After performing the operation for changing the dataype let us check whether all of them have changed the datatype or not"
   ]
  },
  {
   "cell_type": "code",
   "execution_count": 134,
   "id": "fe47bb73-00d4-41f8-a44f-0b57e48be615",
   "metadata": {},
   "outputs": [
    {
     "name": "stdout",
     "output_type": "stream",
     "text": [
      "<class 'pandas.core.frame.DataFrame'>\n",
      "RangeIndex: 614 entries, 0 to 613\n",
      "Data columns (total 13 columns):\n",
      " #   Column             Non-Null Count  Dtype  \n",
      "---  ------             --------------  -----  \n",
      " 0   Loan_ID            614 non-null    object \n",
      " 1   Gender             601 non-null    object \n",
      " 2   Married            611 non-null    object \n",
      " 3   Dependents         599 non-null    object \n",
      " 4   Education          614 non-null    int64  \n",
      " 5   Self_Employed      582 non-null    float64\n",
      " 6   ApplicantIncome    614 non-null    int64  \n",
      " 7   CoapplicantIncome  614 non-null    float64\n",
      " 8   LoanAmount         592 non-null    float64\n",
      " 9   Loan_Amount_Term   600 non-null    float64\n",
      " 10  Credit_History     564 non-null    float64\n",
      " 11  Property_Area      614 non-null    int64  \n",
      " 12  Loan_Status        614 non-null    int32  \n",
      "dtypes: float64(5), int32(1), int64(3), object(4)\n",
      "memory usage: 60.1+ KB\n"
     ]
    }
   ],
   "source": [
    "df.info()"
   ]
  },
  {
   "cell_type": "code",
   "execution_count": 135,
   "id": "af27073b-9d7e-4d21-b8b9-6374263f236f",
   "metadata": {},
   "outputs": [],
   "source": [
    "df['Dependents']=df['Dependents'].astype('float')"
   ]
  },
  {
   "cell_type": "code",
   "execution_count": 136,
   "id": "8e48adb4-f37a-4392-b0fd-946b418fd970",
   "metadata": {},
   "outputs": [
    {
     "name": "stdout",
     "output_type": "stream",
     "text": [
      "<class 'pandas.core.frame.DataFrame'>\n",
      "RangeIndex: 614 entries, 0 to 613\n",
      "Data columns (total 13 columns):\n",
      " #   Column             Non-Null Count  Dtype  \n",
      "---  ------             --------------  -----  \n",
      " 0   Loan_ID            614 non-null    object \n",
      " 1   Gender             601 non-null    object \n",
      " 2   Married            611 non-null    object \n",
      " 3   Dependents         599 non-null    float64\n",
      " 4   Education          614 non-null    int64  \n",
      " 5   Self_Employed      582 non-null    float64\n",
      " 6   ApplicantIncome    614 non-null    int64  \n",
      " 7   CoapplicantIncome  614 non-null    float64\n",
      " 8   LoanAmount         592 non-null    float64\n",
      " 9   Loan_Amount_Term   600 non-null    float64\n",
      " 10  Credit_History     564 non-null    float64\n",
      " 11  Property_Area      614 non-null    int64  \n",
      " 12  Loan_Status        614 non-null    int32  \n",
      "dtypes: float64(6), int32(1), int64(3), object(3)\n",
      "memory usage: 60.1+ KB\n"
     ]
    }
   ],
   "source": [
    "df.info()"
   ]
  },
  {
   "cell_type": "markdown",
   "id": "aef0505e-ae38-40ea-af4e-b38f59cf0b8c",
   "metadata": {},
   "source": [
    "#### Checking the feasibility of features using visualization of the feature's value distribution"
   ]
  },
  {
   "cell_type": "code",
   "execution_count": 137,
   "id": "a566ef20-70ae-41da-a0ec-faa420f30b3f",
   "metadata": {},
   "outputs": [
    {
     "data": {
      "text/plain": [
       "<AxesSubplot:xlabel='ApplicantIncome', ylabel='Density'>"
      ]
     },
     "execution_count": 137,
     "metadata": {},
     "output_type": "execute_result"
    },
    {
     "data": {
      "image/png": "[encoded data removed]",
      "text/plain": [
       "<Figure size 432x288 with 1 Axes>"
      ]
     },
     "metadata": {
      "needs_background": "light"
     },
     "output_type": "display_data"
    }
   ],
   "source": [
    "warnings.filterwarnings('ignore')\n",
    "\n",
    "sns.distplot(df['ApplicantIncome'])"
   ]
  },
  {
   "cell_type": "code",
   "execution_count": 138,
   "id": "322f56b2-4cbe-483b-aca9-593fce02bee5",
   "metadata": {},
   "outputs": [
    {
     "data": {
      "text/plain": [
       "<AxesSubplot:xlabel='CoapplicantIncome', ylabel='Density'>"
      ]
     },
     "execution_count": 138,
     "metadata": {},
     "output_type": "execute_result"
    },
    {
     "data": {
      "image/png": "[encoded data removed]",
      "text/plain": [
       "<Figure size 432x288 with 1 Axes>"
      ]
     },
     "metadata": {
      "needs_background": "light"
     },
     "output_type": "display_data"
    }
   ],
   "source": [
    "warnings.filterwarnings('ignore')\n",
    "\n",
    "sns.distplot(df['CoapplicantIncome'])"
   ]
  },
  {
   "cell_type": "code",
   "execution_count": 139,
   "id": "5422d578-0451-4e83-b985-d8eb8185c3be",
   "metadata": {},
   "outputs": [
    {
     "data": {
      "text/plain": [
       "<AxesSubplot:xlabel='LoanAmount', ylabel='Density'>"
      ]
     },
     "execution_count": 139,
     "metadata": {},
     "output_type": "execute_result"
    },
    {
     "data": {
      "image/png": "[encoded data removed]",
      "text/plain": [
       "<Figure size 432x288 with 1 Axes>"
      ]
     },
     "metadata": {
      "needs_background": "light"
     },
     "output_type": "display_data"
    }
   ],
   "source": [
    "warnings.filterwarnings('ignore')\n",
    "\n",
    "sns.distplot(df['LoanAmount'])"
   ]
  },
  {
   "cell_type": "code",
   "execution_count": 140,
   "id": "46111c56-1b04-4406-a107-6cd03e3714c3",
   "metadata": {},
   "outputs": [
    {
     "data": {
      "text/plain": [
       "<AxesSubplot:xlabel='LoanAmount', ylabel='Density'>"
      ]
     },
     "execution_count": 140,
     "metadata": {},
     "output_type": "execute_result"
    },
    {
     "data": {
      "image/png": "[encoded data removed]",
      "text/plain": [
       "<Figure size 432x288 with 1 Axes>"
      ]
     },
     "metadata": {
      "needs_background": "light"
     },
     "output_type": "display_data"
    }
   ],
   "source": [
    "warnings.filterwarnings('ignore')\n",
    "\n",
    "sns.distplot(df['LoanAmount'],kde=True)"
   ]
  },
  {
   "cell_type": "code",
   "execution_count": 141,
   "id": "ad9eed72-fbdf-4859-9b45-331e14b77bb2",
   "metadata": {},
   "outputs": [],
   "source": [
    "# All the above three features has distribution which is right skewed because of outliers present in features.\n",
    "# We will remove outliers in Feature Engineering Step."
   ]
  },
  {
   "cell_type": "markdown",
   "id": "00487852-b3f6-463b-8151-e5093c9efb72",
   "metadata": {},
   "source": [
    "# 4) Feature Engineering "
   ]
  },
  {
   "cell_type": "code",
   "execution_count": 142,
   "id": "401629fd-1aad-4dd6-a16a-eb7b91a7ef6c",
   "metadata": {},
   "outputs": [],
   "source": [
    "# df['ApplicantIncome'],df['CoapplicantIncome'],df['LoanAmount'],"
   ]
  },
  {
   "cell_type": "code",
   "execution_count": 143,
   "id": "87b8c511-6a38-4da9-aebc-3c7306ec2493",
   "metadata": {},
   "outputs": [
    {
     "data": {
      "text/plain": [
       "<AxesSubplot:xlabel='ApplicantIncome'>"
      ]
     },
     "execution_count": 143,
     "metadata": {},
     "output_type": "execute_result"
    },
    {
     "data": {
      "image/png": "[encoded data removed]",
      "text/plain": [
       "<Figure size 432x288 with 1 Axes>"
      ]
     },
     "metadata": {
      "needs_background": "light"
     },
     "output_type": "display_data"
    }
   ],
   "source": [
    "sns.boxplot(df['ApplicantIncome'])          ## All the points present outside the upper quartile are outliers"
   ]
  },
  {
   "cell_type": "code",
   "execution_count": 144,
   "id": "cdecf7f4-b96a-4435-a55a-b7eadcef58c8",
   "metadata": {},
   "outputs": [],
   "source": [
    "## After using every trnaformation technique, outliers are not getting replaced hence we will use Min Max Scaler technique."
   ]
  },
  {
   "cell_type": "code",
   "execution_count": 145,
   "id": "bbf313c1-acb8-42ef-a21f-d6e914a2d5c6",
   "metadata": {},
   "outputs": [],
   "source": [
    "ai_scaler=MinMaxScaler()\n",
    "df['ApplicantIncome']=ai_scaler.fit_transform(df[['ApplicantIncome']])"
   ]
  },
  {
   "cell_type": "code",
   "execution_count": 146,
   "id": "233b4a33-17f8-4ae5-861a-839bc8116d4d",
   "metadata": {},
   "outputs": [
    {
     "data": {
      "text/plain": [
       "<AxesSubplot:xlabel='CoapplicantIncome'>"
      ]
     },
     "execution_count": 146,
     "metadata": {},
     "output_type": "execute_result"
    },
    {
     "data": {
      "image/png": "[encoded data removed]",
      "text/plain": [
       "<Figure size 432x288 with 1 Axes>"
      ]
     },
     "metadata": {
      "needs_background": "light"
     },
     "output_type": "display_data"
    }
   ],
   "source": [
    "sns.boxplot(df['CoapplicantIncome'])          ## All the points present outside the upper quartile are outliers"
   ]
  },
  {
   "cell_type": "code",
   "execution_count": 147,
   "id": "af1347bb-11c0-4deb-a68d-3dc8ed44cd96",
   "metadata": {},
   "outputs": [],
   "source": [
    "cai_scaler=MinMaxScaler()\n",
    "df['CoapplicantIncome']=cai_scaler.fit_transform(df[['CoapplicantIncome']])"
   ]
  },
  {
   "cell_type": "code",
   "execution_count": 148,
   "id": "5b9d053c-9bd5-40d2-8323-30335e543ab7",
   "metadata": {},
   "outputs": [
    {
     "data": {
      "text/plain": [
       "<AxesSubplot:xlabel='LoanAmount'>"
      ]
     },
     "execution_count": 148,
     "metadata": {},
     "output_type": "execute_result"
    },
    {
     "data": {
      "image/png": "[encoded data removed]",
      "text/plain": [
       "<Figure size 432x288 with 1 Axes>"
      ]
     },
     "metadata": {
      "needs_background": "light"
     },
     "output_type": "display_data"
    }
   ],
   "source": [
    "sns.boxplot(df['LoanAmount'])     "
   ]
  },
  {
   "cell_type": "code",
   "execution_count": 149,
   "id": "5eecdf62-386e-4632-a08e-d08d263fae3f",
   "metadata": {},
   "outputs": [],
   "source": [
    "la_scaler=MinMaxScaler()\n",
    "df['LoanAmount']=la_scaler.fit_transform(df[['LoanAmount']])"
   ]
  },
  {
   "cell_type": "markdown",
   "id": "3b79b9ef-60c5-4f4b-bb92-7e1551247c9b",
   "metadata": {},
   "source": [
    "##### Checking if the features have any NaN values"
   ]
  },
  {
   "cell_type": "code",
   "execution_count": 150,
   "id": "5e6da215-1a01-4412-aa9b-5bef36977c55",
   "metadata": {},
   "outputs": [
    {
     "data": {
      "text/plain": [
       "Loan_ID               0\n",
       "Gender               13\n",
       "Married               3\n",
       "Dependents           15\n",
       "Education             0\n",
       "Self_Employed        32\n",
       "ApplicantIncome       0\n",
       "CoapplicantIncome     0\n",
       "LoanAmount           22\n",
       "Loan_Amount_Term     14\n",
       "Credit_History       50\n",
       "Property_Area         0\n",
       "Loan_Status           0\n",
       "dtype: int64"
      ]
     },
     "execution_count": 150,
     "metadata": {},
     "output_type": "execute_result"
    }
   ],
   "source": [
    "df.isna().sum()"
   ]
  },
  {
   "cell_type": "code",
   "execution_count": 151,
   "id": "af66d627-9aee-47e7-9267-c6326703b86b",
   "metadata": {},
   "outputs": [
    {
     "data": {
      "text/plain": [
       "0"
      ]
     },
     "execution_count": 151,
     "metadata": {},
     "output_type": "execute_result"
    }
   ],
   "source": [
    "df['Gender']=df['Gender'].fillna(method='ffill')\n",
    "df['Gender'].isna().sum()"
   ]
  },
  {
   "cell_type": "code",
   "execution_count": 152,
   "id": "dcd3eabb-94f2-4cf8-b758-337448680d99",
   "metadata": {},
   "outputs": [
    {
     "data": {
      "text/plain": [
       "0"
      ]
     },
     "execution_count": 152,
     "metadata": {},
     "output_type": "execute_result"
    }
   ],
   "source": [
    "df['Married']=df['Married'].fillna(method='ffill')\n",
    "df['Married'].isna().sum()"
   ]
  },
  {
   "cell_type": "code",
   "execution_count": 153,
   "id": "937d08e6-c082-4df3-bf10-a2dbfb2effa2",
   "metadata": {},
   "outputs": [
    {
     "data": {
      "text/plain": [
       "0"
      ]
     },
     "execution_count": 153,
     "metadata": {},
     "output_type": "execute_result"
    }
   ],
   "source": [
    "df['Dependents']=df['Dependents'].fillna(method='ffill')\n",
    "df['Dependents'].isna().sum()"
   ]
  },
  {
   "cell_type": "code",
   "execution_count": 154,
   "id": "8244bb34-c351-4007-9f6a-ba12850ea015",
   "metadata": {},
   "outputs": [
    {
     "data": {
      "text/plain": [
       "0"
      ]
     },
     "execution_count": 154,
     "metadata": {},
     "output_type": "execute_result"
    }
   ],
   "source": [
    "df['Self_Employed']=df['Self_Employed'].fillna(method='ffill')\n",
    "df['Self_Employed'].isna().sum()"
   ]
  },
  {
   "cell_type": "code",
   "execution_count": 155,
   "id": "9a2aeb5f-c440-472c-a257-4e11fc610e9e",
   "metadata": {},
   "outputs": [],
   "source": [
    "df['LoanAmount']=df['LoanAmount'].fillna(method='ffill')\n",
    "df['Loan_Amount_Term']=df['Loan_Amount_Term'].fillna(method='ffill')\n",
    "df['Credit_History']=df['Credit_History'].fillna(method='ffill')"
   ]
  },
  {
   "cell_type": "code",
   "execution_count": 156,
   "id": "b7cd62c5-3e5e-44ca-bea7-c0706704efca",
   "metadata": {},
   "outputs": [
    {
     "data": {
      "text/plain": [
       "Loan_ID              0\n",
       "Gender               0\n",
       "Married              0\n",
       "Dependents           0\n",
       "Education            0\n",
       "Self_Employed        0\n",
       "ApplicantIncome      0\n",
       "CoapplicantIncome    0\n",
       "LoanAmount           1\n",
       "Loan_Amount_Term     0\n",
       "Credit_History       0\n",
       "Property_Area        0\n",
       "Loan_Status          0\n",
       "dtype: int64"
      ]
     },
     "execution_count": 156,
     "metadata": {},
     "output_type": "execute_result"
    }
   ],
   "source": [
    "df.isna().sum()"
   ]
  },
  {
   "cell_type": "code",
   "execution_count": 157,
   "id": "5631f553-4f14-4b08-85af-adcfb681e9dd",
   "metadata": {},
   "outputs": [],
   "source": [
    "df['LoanAmount']=df['LoanAmount'].fillna(df['LoanAmount'].mode()[0])"
   ]
  },
  {
   "cell_type": "markdown",
   "id": "beef94d2-a726-4cea-bfb0-b365924c3640",
   "metadata": {},
   "source": [
    "# 5) Feature Selection"
   ]
  },
  {
   "cell_type": "code",
   "execution_count": 158,
   "id": "019436a1-bd12-4e0b-8209-1e417ebc471c",
   "metadata": {},
   "outputs": [
    {
     "data": {
      "text/plain": [
       "Index(['Loan_ID', 'Gender', 'Married', 'Dependents', 'Education',\n",
       "       'Self_Employed', 'ApplicantIncome', 'CoapplicantIncome', 'LoanAmount',\n",
       "       'Loan_Amount_Term', 'Credit_History', 'Property_Area', 'Loan_Status'],\n",
       "      dtype='object')"
      ]
     },
     "execution_count": 158,
     "metadata": {},
     "output_type": "execute_result"
    }
   ],
   "source": [
    "df.columns"
   ]
  },
  {
   "cell_type": "code",
   "execution_count": 159,
   "id": "3121e125-2faf-488d-a798-c921ac005c09",
   "metadata": {},
   "outputs": [],
   "source": [
    "# here Loan_ID feature holds no relation with target column so we can drop it.\n",
    "# the features Gender,Married are one hot encoded hence they can be dropped as well"
   ]
  },
  {
   "cell_type": "code",
   "execution_count": 160,
   "id": "467f9392-7365-480f-9111-d494a272e26d",
   "metadata": {},
   "outputs": [],
   "source": [
    "df.drop(['Loan_ID', 'Gender', 'Married'],axis=1,inplace=True)"
   ]
  },
  {
   "cell_type": "code",
   "execution_count": 161,
   "id": "472e185e-2175-4c2f-95b7-9262c677da26",
   "metadata": {},
   "outputs": [],
   "source": [
    "# Concatenating the one hot encoded features to df"
   ]
  },
  {
   "cell_type": "code",
   "execution_count": 162,
   "id": "8539d4e4-f527-463f-86af-e47d20d916fe",
   "metadata": {},
   "outputs": [
    {
     "data": {
      "text/html": [
       "<div>\n",
       "<style scoped>\n",
       "    .dataframe tbody tr th:only-of-type {\n",
       "        vertical-align: middle;\n",
       "    }\n",
       "\n",
       "    .dataframe tbody tr th {\n",
       "        vertical-align: top;\n",
       "    }\n",
       "\n",
       "    .dataframe thead th {\n",
       "        text-align: right;\n",
       "    }\n",
       "</style>\n",
       "<table border=\"1\" class=\"dataframe\">\n",
       "  <thead>\n",
       "    <tr style=\"text-align: right;\">\n",
       "      <th></th>\n",
       "      <th>Dependents</th>\n",
       "      <th>Education</th>\n",
       "      <th>Self_Employed</th>\n",
       "      <th>ApplicantIncome</th>\n",
       "      <th>CoapplicantIncome</th>\n",
       "      <th>LoanAmount</th>\n",
       "      <th>Loan_Amount_Term</th>\n",
       "      <th>Credit_History</th>\n",
       "      <th>Property_Area</th>\n",
       "      <th>Loan_Status</th>\n",
       "    </tr>\n",
       "  </thead>\n",
       "  <tbody>\n",
       "    <tr>\n",
       "      <th>0</th>\n",
       "      <td>0.0</td>\n",
       "      <td>2</td>\n",
       "      <td>2.0</td>\n",
       "      <td>0.070489</td>\n",
       "      <td>0.000000</td>\n",
       "      <td>0.160637</td>\n",
       "      <td>360.0</td>\n",
       "      <td>1.0</td>\n",
       "      <td>2</td>\n",
       "      <td>1</td>\n",
       "    </tr>\n",
       "    <tr>\n",
       "      <th>1</th>\n",
       "      <td>1.0</td>\n",
       "      <td>2</td>\n",
       "      <td>2.0</td>\n",
       "      <td>0.054830</td>\n",
       "      <td>0.036192</td>\n",
       "      <td>0.172214</td>\n",
       "      <td>360.0</td>\n",
       "      <td>1.0</td>\n",
       "      <td>0</td>\n",
       "      <td>0</td>\n",
       "    </tr>\n",
       "    <tr>\n",
       "      <th>2</th>\n",
       "      <td>0.0</td>\n",
       "      <td>2</td>\n",
       "      <td>1.0</td>\n",
       "      <td>0.035250</td>\n",
       "      <td>0.000000</td>\n",
       "      <td>0.082489</td>\n",
       "      <td>360.0</td>\n",
       "      <td>1.0</td>\n",
       "      <td>2</td>\n",
       "      <td>1</td>\n",
       "    </tr>\n",
       "    <tr>\n",
       "      <th>3</th>\n",
       "      <td>0.0</td>\n",
       "      <td>1</td>\n",
       "      <td>2.0</td>\n",
       "      <td>0.030093</td>\n",
       "      <td>0.056592</td>\n",
       "      <td>0.160637</td>\n",
       "      <td>360.0</td>\n",
       "      <td>1.0</td>\n",
       "      <td>2</td>\n",
       "      <td>1</td>\n",
       "    </tr>\n",
       "    <tr>\n",
       "      <th>4</th>\n",
       "      <td>0.0</td>\n",
       "      <td>2</td>\n",
       "      <td>2.0</td>\n",
       "      <td>0.072356</td>\n",
       "      <td>0.000000</td>\n",
       "      <td>0.191027</td>\n",
       "      <td>360.0</td>\n",
       "      <td>1.0</td>\n",
       "      <td>2</td>\n",
       "      <td>1</td>\n",
       "    </tr>\n",
       "    <tr>\n",
       "      <th>...</th>\n",
       "      <td>...</td>\n",
       "      <td>...</td>\n",
       "      <td>...</td>\n",
       "      <td>...</td>\n",
       "      <td>...</td>\n",
       "      <td>...</td>\n",
       "      <td>...</td>\n",
       "      <td>...</td>\n",
       "      <td>...</td>\n",
       "      <td>...</td>\n",
       "    </tr>\n",
       "    <tr>\n",
       "      <th>609</th>\n",
       "      <td>0.0</td>\n",
       "      <td>2</td>\n",
       "      <td>2.0</td>\n",
       "      <td>0.034014</td>\n",
       "      <td>0.000000</td>\n",
       "      <td>0.089725</td>\n",
       "      <td>360.0</td>\n",
       "      <td>1.0</td>\n",
       "      <td>0</td>\n",
       "      <td>1</td>\n",
       "    </tr>\n",
       "    <tr>\n",
       "      <th>610</th>\n",
       "      <td>3.0</td>\n",
       "      <td>2</td>\n",
       "      <td>2.0</td>\n",
       "      <td>0.048930</td>\n",
       "      <td>0.000000</td>\n",
       "      <td>0.044863</td>\n",
       "      <td>180.0</td>\n",
       "      <td>1.0</td>\n",
       "      <td>0</td>\n",
       "      <td>1</td>\n",
       "    </tr>\n",
       "    <tr>\n",
       "      <th>611</th>\n",
       "      <td>1.0</td>\n",
       "      <td>2</td>\n",
       "      <td>2.0</td>\n",
       "      <td>0.097984</td>\n",
       "      <td>0.005760</td>\n",
       "      <td>0.353111</td>\n",
       "      <td>360.0</td>\n",
       "      <td>1.0</td>\n",
       "      <td>2</td>\n",
       "      <td>1</td>\n",
       "    </tr>\n",
       "    <tr>\n",
       "      <th>612</th>\n",
       "      <td>2.0</td>\n",
       "      <td>2</td>\n",
       "      <td>2.0</td>\n",
       "      <td>0.091936</td>\n",
       "      <td>0.000000</td>\n",
       "      <td>0.257598</td>\n",
       "      <td>360.0</td>\n",
       "      <td>1.0</td>\n",
       "      <td>2</td>\n",
       "      <td>1</td>\n",
       "    </tr>\n",
       "    <tr>\n",
       "      <th>613</th>\n",
       "      <td>0.0</td>\n",
       "      <td>2</td>\n",
       "      <td>1.0</td>\n",
       "      <td>0.054830</td>\n",
       "      <td>0.000000</td>\n",
       "      <td>0.179450</td>\n",
       "      <td>360.0</td>\n",
       "      <td>0.0</td>\n",
       "      <td>1</td>\n",
       "      <td>0</td>\n",
       "    </tr>\n",
       "  </tbody>\n",
       "</table>\n",
       "<p>614 rows × 10 columns</p>\n",
       "</div>"
      ],
      "text/plain": [
       "     Dependents  Education  Self_Employed  ApplicantIncome  CoapplicantIncome  \\\n",
       "0           0.0          2            2.0         0.070489           0.000000   \n",
       "1           1.0          2            2.0         0.054830           0.036192   \n",
       "2           0.0          2            1.0         0.035250           0.000000   \n",
       "3           0.0          1            2.0         0.030093           0.056592   \n",
       "4           0.0          2            2.0         0.072356           0.000000   \n",
       "..          ...        ...            ...              ...                ...   \n",
       "609         0.0          2            2.0         0.034014           0.000000   \n",
       "610         3.0          2            2.0         0.048930           0.000000   \n",
       "611         1.0          2            2.0         0.097984           0.005760   \n",
       "612         2.0          2            2.0         0.091936           0.000000   \n",
       "613         0.0          2            1.0         0.054830           0.000000   \n",
       "\n",
       "     LoanAmount  Loan_Amount_Term  Credit_History  Property_Area  Loan_Status  \n",
       "0      0.160637             360.0             1.0              2            1  \n",
       "1      0.172214             360.0             1.0              0            0  \n",
       "2      0.082489             360.0             1.0              2            1  \n",
       "3      0.160637             360.0             1.0              2            1  \n",
       "4      0.191027             360.0             1.0              2            1  \n",
       "..          ...               ...             ...            ...          ...  \n",
       "609    0.089725             360.0             1.0              0            1  \n",
       "610    0.044863             180.0             1.0              0            1  \n",
       "611    0.353111             360.0             1.0              2            1  \n",
       "612    0.257598             360.0             1.0              2            1  \n",
       "613    0.179450             360.0             0.0              1            0  \n",
       "\n",
       "[614 rows x 10 columns]"
      ]
     },
     "execution_count": 162,
     "metadata": {},
     "output_type": "execute_result"
    }
   ],
   "source": [
    "df"
   ]
  },
  {
   "cell_type": "markdown",
   "id": "ae741961-5093-4ffe-883e-887ca86beddc",
   "metadata": {},
   "source": [
    "##### The final DataFrame"
   ]
  },
  {
   "cell_type": "code",
   "execution_count": 163,
   "id": "3aeb31ae-51de-4267-9933-c853046ec2e9",
   "metadata": {},
   "outputs": [
    {
     "data": {
      "text/html": [
       "<div>\n",
       "<style scoped>\n",
       "    .dataframe tbody tr th:only-of-type {\n",
       "        vertical-align: middle;\n",
       "    }\n",
       "\n",
       "    .dataframe tbody tr th {\n",
       "        vertical-align: top;\n",
       "    }\n",
       "\n",
       "    .dataframe thead th {\n",
       "        text-align: right;\n",
       "    }\n",
       "</style>\n",
       "<table border=\"1\" class=\"dataframe\">\n",
       "  <thead>\n",
       "    <tr style=\"text-align: right;\">\n",
       "      <th></th>\n",
       "      <th>Dependents</th>\n",
       "      <th>Education</th>\n",
       "      <th>Self_Employed</th>\n",
       "      <th>ApplicantIncome</th>\n",
       "      <th>CoapplicantIncome</th>\n",
       "      <th>LoanAmount</th>\n",
       "      <th>Loan_Amount_Term</th>\n",
       "      <th>Credit_History</th>\n",
       "      <th>Property_Area</th>\n",
       "      <th>Loan_Status</th>\n",
       "      <th>ohe_Female</th>\n",
       "      <th>ohe_Male</th>\n",
       "      <th>ohe_No</th>\n",
       "      <th>ohe_Yes</th>\n",
       "    </tr>\n",
       "  </thead>\n",
       "  <tbody>\n",
       "    <tr>\n",
       "      <th>0</th>\n",
       "      <td>0.0</td>\n",
       "      <td>2</td>\n",
       "      <td>2.0</td>\n",
       "      <td>0.070489</td>\n",
       "      <td>0.000000</td>\n",
       "      <td>0.160637</td>\n",
       "      <td>360.0</td>\n",
       "      <td>1.0</td>\n",
       "      <td>2</td>\n",
       "      <td>1</td>\n",
       "      <td>0</td>\n",
       "      <td>1</td>\n",
       "      <td>1</td>\n",
       "      <td>0</td>\n",
       "    </tr>\n",
       "    <tr>\n",
       "      <th>1</th>\n",
       "      <td>1.0</td>\n",
       "      <td>2</td>\n",
       "      <td>2.0</td>\n",
       "      <td>0.054830</td>\n",
       "      <td>0.036192</td>\n",
       "      <td>0.172214</td>\n",
       "      <td>360.0</td>\n",
       "      <td>1.0</td>\n",
       "      <td>0</td>\n",
       "      <td>0</td>\n",
       "      <td>0</td>\n",
       "      <td>1</td>\n",
       "      <td>0</td>\n",
       "      <td>1</td>\n",
       "    </tr>\n",
       "    <tr>\n",
       "      <th>2</th>\n",
       "      <td>0.0</td>\n",
       "      <td>2</td>\n",
       "      <td>1.0</td>\n",
       "      <td>0.035250</td>\n",
       "      <td>0.000000</td>\n",
       "      <td>0.082489</td>\n",
       "      <td>360.0</td>\n",
       "      <td>1.0</td>\n",
       "      <td>2</td>\n",
       "      <td>1</td>\n",
       "      <td>0</td>\n",
       "      <td>1</td>\n",
       "      <td>0</td>\n",
       "      <td>1</td>\n",
       "    </tr>\n",
       "    <tr>\n",
       "      <th>3</th>\n",
       "      <td>0.0</td>\n",
       "      <td>1</td>\n",
       "      <td>2.0</td>\n",
       "      <td>0.030093</td>\n",
       "      <td>0.056592</td>\n",
       "      <td>0.160637</td>\n",
       "      <td>360.0</td>\n",
       "      <td>1.0</td>\n",
       "      <td>2</td>\n",
       "      <td>1</td>\n",
       "      <td>0</td>\n",
       "      <td>1</td>\n",
       "      <td>0</td>\n",
       "      <td>1</td>\n",
       "    </tr>\n",
       "    <tr>\n",
       "      <th>4</th>\n",
       "      <td>0.0</td>\n",
       "      <td>2</td>\n",
       "      <td>2.0</td>\n",
       "      <td>0.072356</td>\n",
       "      <td>0.000000</td>\n",
       "      <td>0.191027</td>\n",
       "      <td>360.0</td>\n",
       "      <td>1.0</td>\n",
       "      <td>2</td>\n",
       "      <td>1</td>\n",
       "      <td>0</td>\n",
       "      <td>1</td>\n",
       "      <td>1</td>\n",
       "      <td>0</td>\n",
       "    </tr>\n",
       "    <tr>\n",
       "      <th>...</th>\n",
       "      <td>...</td>\n",
       "      <td>...</td>\n",
       "      <td>...</td>\n",
       "      <td>...</td>\n",
       "      <td>...</td>\n",
       "      <td>...</td>\n",
       "      <td>...</td>\n",
       "      <td>...</td>\n",
       "      <td>...</td>\n",
       "      <td>...</td>\n",
       "      <td>...</td>\n",
       "      <td>...</td>\n",
       "      <td>...</td>\n",
       "      <td>...</td>\n",
       "    </tr>\n",
       "    <tr>\n",
       "      <th>609</th>\n",
       "      <td>0.0</td>\n",
       "      <td>2</td>\n",
       "      <td>2.0</td>\n",
       "      <td>0.034014</td>\n",
       "      <td>0.000000</td>\n",
       "      <td>0.089725</td>\n",
       "      <td>360.0</td>\n",
       "      <td>1.0</td>\n",
       "      <td>0</td>\n",
       "      <td>1</td>\n",
       "      <td>1</td>\n",
       "      <td>0</td>\n",
       "      <td>1</td>\n",
       "      <td>0</td>\n",
       "    </tr>\n",
       "    <tr>\n",
       "      <th>610</th>\n",
       "      <td>3.0</td>\n",
       "      <td>2</td>\n",
       "      <td>2.0</td>\n",
       "      <td>0.048930</td>\n",
       "      <td>0.000000</td>\n",
       "      <td>0.044863</td>\n",
       "      <td>180.0</td>\n",
       "      <td>1.0</td>\n",
       "      <td>0</td>\n",
       "      <td>1</td>\n",
       "      <td>0</td>\n",
       "      <td>1</td>\n",
       "      <td>0</td>\n",
       "      <td>1</td>\n",
       "    </tr>\n",
       "    <tr>\n",
       "      <th>611</th>\n",
       "      <td>1.0</td>\n",
       "      <td>2</td>\n",
       "      <td>2.0</td>\n",
       "      <td>0.097984</td>\n",
       "      <td>0.005760</td>\n",
       "      <td>0.353111</td>\n",
       "      <td>360.0</td>\n",
       "      <td>1.0</td>\n",
       "      <td>2</td>\n",
       "      <td>1</td>\n",
       "      <td>0</td>\n",
       "      <td>1</td>\n",
       "      <td>0</td>\n",
       "      <td>1</td>\n",
       "    </tr>\n",
       "    <tr>\n",
       "      <th>612</th>\n",
       "      <td>2.0</td>\n",
       "      <td>2</td>\n",
       "      <td>2.0</td>\n",
       "      <td>0.091936</td>\n",
       "      <td>0.000000</td>\n",
       "      <td>0.257598</td>\n",
       "      <td>360.0</td>\n",
       "      <td>1.0</td>\n",
       "      <td>2</td>\n",
       "      <td>1</td>\n",
       "      <td>0</td>\n",
       "      <td>1</td>\n",
       "      <td>0</td>\n",
       "      <td>1</td>\n",
       "    </tr>\n",
       "    <tr>\n",
       "      <th>613</th>\n",
       "      <td>0.0</td>\n",
       "      <td>2</td>\n",
       "      <td>1.0</td>\n",
       "      <td>0.054830</td>\n",
       "      <td>0.000000</td>\n",
       "      <td>0.179450</td>\n",
       "      <td>360.0</td>\n",
       "      <td>0.0</td>\n",
       "      <td>1</td>\n",
       "      <td>0</td>\n",
       "      <td>1</td>\n",
       "      <td>0</td>\n",
       "      <td>1</td>\n",
       "      <td>0</td>\n",
       "    </tr>\n",
       "  </tbody>\n",
       "</table>\n",
       "<p>614 rows × 14 columns</p>\n",
       "</div>"
      ],
      "text/plain": [
       "     Dependents  Education  Self_Employed  ApplicantIncome  CoapplicantIncome  \\\n",
       "0           0.0          2            2.0         0.070489           0.000000   \n",
       "1           1.0          2            2.0         0.054830           0.036192   \n",
       "2           0.0          2            1.0         0.035250           0.000000   \n",
       "3           0.0          1            2.0         0.030093           0.056592   \n",
       "4           0.0          2            2.0         0.072356           0.000000   \n",
       "..          ...        ...            ...              ...                ...   \n",
       "609         0.0          2            2.0         0.034014           0.000000   \n",
       "610         3.0          2            2.0         0.048930           0.000000   \n",
       "611         1.0          2            2.0         0.097984           0.005760   \n",
       "612         2.0          2            2.0         0.091936           0.000000   \n",
       "613         0.0          2            1.0         0.054830           0.000000   \n",
       "\n",
       "     LoanAmount  Loan_Amount_Term  Credit_History  Property_Area  Loan_Status  \\\n",
       "0      0.160637             360.0             1.0              2            1   \n",
       "1      0.172214             360.0             1.0              0            0   \n",
       "2      0.082489             360.0             1.0              2            1   \n",
       "3      0.160637             360.0             1.0              2            1   \n",
       "4      0.191027             360.0             1.0              2            1   \n",
       "..          ...               ...             ...            ...          ...   \n",
       "609    0.089725             360.0             1.0              0            1   \n",
       "610    0.044863             180.0             1.0              0            1   \n",
       "611    0.353111             360.0             1.0              2            1   \n",
       "612    0.257598             360.0             1.0              2            1   \n",
       "613    0.179450             360.0             0.0              1            0   \n",
       "\n",
       "     ohe_Female  ohe_Male  ohe_No  ohe_Yes  \n",
       "0             0         1       1        0  \n",
       "1             0         1       0        1  \n",
       "2             0         1       0        1  \n",
       "3             0         1       0        1  \n",
       "4             0         1       1        0  \n",
       "..          ...       ...     ...      ...  \n",
       "609           1         0       1        0  \n",
       "610           0         1       0        1  \n",
       "611           0         1       0        1  \n",
       "612           0         1       0        1  \n",
       "613           1         0       1        0  \n",
       "\n",
       "[614 rows x 14 columns]"
      ]
     },
     "execution_count": 163,
     "metadata": {},
     "output_type": "execute_result"
    }
   ],
   "source": [
    "df1=pd.concat([df,df_ohe_gender,df_ohe_married],axis=1) \n",
    "df1"
   ]
  },
  {
   "cell_type": "code",
   "execution_count": 164,
   "id": "72e1a565-8ac9-4796-9231-ace1ea4a760e",
   "metadata": {},
   "outputs": [
    {
     "data": {
      "text/html": [
       "<div>\n",
       "<style scoped>\n",
       "    .dataframe tbody tr th:only-of-type {\n",
       "        vertical-align: middle;\n",
       "    }\n",
       "\n",
       "    .dataframe tbody tr th {\n",
       "        vertical-align: top;\n",
       "    }\n",
       "\n",
       "    .dataframe thead th {\n",
       "        text-align: right;\n",
       "    }\n",
       "</style>\n",
       "<table border=\"1\" class=\"dataframe\">\n",
       "  <thead>\n",
       "    <tr style=\"text-align: right;\">\n",
       "      <th></th>\n",
       "      <th>Dependents</th>\n",
       "      <th>Education</th>\n",
       "      <th>Self_Employed</th>\n",
       "      <th>ApplicantIncome</th>\n",
       "      <th>CoapplicantIncome</th>\n",
       "      <th>LoanAmount</th>\n",
       "      <th>Loan_Amount_Term</th>\n",
       "      <th>Credit_History</th>\n",
       "      <th>Property_Area</th>\n",
       "      <th>Loan_Status</th>\n",
       "      <th>ohe_Female</th>\n",
       "      <th>ohe_Male</th>\n",
       "      <th>ohe_No</th>\n",
       "      <th>ohe_Yes</th>\n",
       "    </tr>\n",
       "  </thead>\n",
       "  <tbody>\n",
       "    <tr>\n",
       "      <th>Dependents</th>\n",
       "      <td>1.000000</td>\n",
       "      <td>-0.054909</td>\n",
       "      <td>-0.044505</td>\n",
       "      <td>0.115036</td>\n",
       "      <td>0.026683</td>\n",
       "      <td>0.142077</td>\n",
       "      <td>-0.085453</td>\n",
       "      <td>-0.070299</td>\n",
       "      <td>0.005131</td>\n",
       "      <td>-0.003361</td>\n",
       "      <td>-0.171774</td>\n",
       "      <td>0.148294</td>\n",
       "      <td>-0.331633</td>\n",
       "      <td>0.331511</td>\n",
       "    </tr>\n",
       "    <tr>\n",
       "      <th>Education</th>\n",
       "      <td>-0.054909</td>\n",
       "      <td>1.000000</td>\n",
       "      <td>-0.008734</td>\n",
       "      <td>0.140760</td>\n",
       "      <td>0.062290</td>\n",
       "      <td>0.151678</td>\n",
       "      <td>0.080674</td>\n",
       "      <td>0.084637</td>\n",
       "      <td>0.065243</td>\n",
       "      <td>0.085884</td>\n",
       "      <td>0.045364</td>\n",
       "      <td>-0.061497</td>\n",
       "      <td>0.012304</td>\n",
       "      <td>-0.017671</td>\n",
       "    </tr>\n",
       "    <tr>\n",
       "      <th>Self_Employed</th>\n",
       "      <td>-0.044505</td>\n",
       "      <td>-0.008734</td>\n",
       "      <td>1.000000</td>\n",
       "      <td>-0.122728</td>\n",
       "      <td>0.021807</td>\n",
       "      <td>-0.099575</td>\n",
       "      <td>0.035485</td>\n",
       "      <td>0.010803</td>\n",
       "      <td>0.037106</td>\n",
       "      <td>-0.009035</td>\n",
       "      <td>0.008352</td>\n",
       "      <td>0.017387</td>\n",
       "      <td>-0.001638</td>\n",
       "      <td>-0.002497</td>\n",
       "    </tr>\n",
       "    <tr>\n",
       "      <th>ApplicantIncome</th>\n",
       "      <td>0.115036</td>\n",
       "      <td>0.140760</td>\n",
       "      <td>-0.122728</td>\n",
       "      <td>1.000000</td>\n",
       "      <td>-0.116605</td>\n",
       "      <td>0.533304</td>\n",
       "      <td>-0.042849</td>\n",
       "      <td>-0.020183</td>\n",
       "      <td>-0.009500</td>\n",
       "      <td>-0.004710</td>\n",
       "      <td>-0.058809</td>\n",
       "      <td>0.013933</td>\n",
       "      <td>-0.051708</td>\n",
       "      <td>0.050194</td>\n",
       "    </tr>\n",
       "    <tr>\n",
       "      <th>CoapplicantIncome</th>\n",
       "      <td>0.026683</td>\n",
       "      <td>0.062290</td>\n",
       "      <td>0.021807</td>\n",
       "      <td>-0.116605</td>\n",
       "      <td>1.000000</td>\n",
       "      <td>0.189895</td>\n",
       "      <td>-0.067336</td>\n",
       "      <td>0.009391</td>\n",
       "      <td>0.010522</td>\n",
       "      <td>-0.059187</td>\n",
       "      <td>-0.082912</td>\n",
       "      <td>0.082316</td>\n",
       "      <td>-0.075948</td>\n",
       "      <td>0.080496</td>\n",
       "    </tr>\n",
       "    <tr>\n",
       "      <th>LoanAmount</th>\n",
       "      <td>0.142077</td>\n",
       "      <td>0.151678</td>\n",
       "      <td>-0.099575</td>\n",
       "      <td>0.533304</td>\n",
       "      <td>0.189895</td>\n",
       "      <td>1.000000</td>\n",
       "      <td>0.023614</td>\n",
       "      <td>-0.013271</td>\n",
       "      <td>-0.038868</td>\n",
       "      <td>-0.044721</td>\n",
       "      <td>-0.109263</td>\n",
       "      <td>0.067962</td>\n",
       "      <td>-0.131962</td>\n",
       "      <td>0.132472</td>\n",
       "    </tr>\n",
       "    <tr>\n",
       "      <th>Loan_Amount_Term</th>\n",
       "      <td>-0.085453</td>\n",
       "      <td>0.080674</td>\n",
       "      <td>0.035485</td>\n",
       "      <td>-0.042849</td>\n",
       "      <td>-0.067336</td>\n",
       "      <td>0.023614</td>\n",
       "      <td>1.000000</td>\n",
       "      <td>-0.031843</td>\n",
       "      <td>-0.066556</td>\n",
       "      <td>-0.033378</td>\n",
       "      <td>0.078273</td>\n",
       "      <td>-0.074998</td>\n",
       "      <td>0.104580</td>\n",
       "      <td>-0.107107</td>\n",
       "    </tr>\n",
       "    <tr>\n",
       "      <th>Credit_History</th>\n",
       "      <td>-0.070299</td>\n",
       "      <td>0.084637</td>\n",
       "      <td>0.010803</td>\n",
       "      <td>-0.020183</td>\n",
       "      <td>0.009391</td>\n",
       "      <td>-0.013271</td>\n",
       "      <td>-0.031843</td>\n",
       "      <td>1.000000</td>\n",
       "      <td>0.021124</td>\n",
       "      <td>0.525152</td>\n",
       "      <td>0.004817</td>\n",
       "      <td>0.004780</td>\n",
       "      <td>-0.008884</td>\n",
       "      <td>0.004315</td>\n",
       "    </tr>\n",
       "    <tr>\n",
       "      <th>Property_Area</th>\n",
       "      <td>0.005131</td>\n",
       "      <td>0.065243</td>\n",
       "      <td>0.037106</td>\n",
       "      <td>-0.009500</td>\n",
       "      <td>0.010522</td>\n",
       "      <td>-0.038868</td>\n",
       "      <td>-0.066556</td>\n",
       "      <td>0.021124</td>\n",
       "      <td>1.000000</td>\n",
       "      <td>0.032112</td>\n",
       "      <td>0.025752</td>\n",
       "      <td>-0.017054</td>\n",
       "      <td>-0.004257</td>\n",
       "      <td>0.000395</td>\n",
       "    </tr>\n",
       "    <tr>\n",
       "      <th>Loan_Status</th>\n",
       "      <td>-0.003361</td>\n",
       "      <td>0.085884</td>\n",
       "      <td>-0.009035</td>\n",
       "      <td>-0.004710</td>\n",
       "      <td>-0.059187</td>\n",
       "      <td>-0.044721</td>\n",
       "      <td>-0.033378</td>\n",
       "      <td>0.525152</td>\n",
       "      <td>0.032112</td>\n",
       "      <td>1.000000</td>\n",
       "      <td>-0.017987</td>\n",
       "      <td>0.025407</td>\n",
       "      <td>-0.091478</td>\n",
       "      <td>0.084281</td>\n",
       "    </tr>\n",
       "    <tr>\n",
       "      <th>ohe_Female</th>\n",
       "      <td>-0.171774</td>\n",
       "      <td>0.045364</td>\n",
       "      <td>0.008352</td>\n",
       "      <td>-0.058809</td>\n",
       "      <td>-0.082912</td>\n",
       "      <td>-0.109263</td>\n",
       "      <td>0.078273</td>\n",
       "      <td>0.004817</td>\n",
       "      <td>0.025752</td>\n",
       "      <td>-0.017987</td>\n",
       "      <td>1.000000</td>\n",
       "      <td>-0.934236</td>\n",
       "      <td>0.364569</td>\n",
       "      <td>-0.367389</td>\n",
       "    </tr>\n",
       "    <tr>\n",
       "      <th>ohe_Male</th>\n",
       "      <td>0.148294</td>\n",
       "      <td>-0.061497</td>\n",
       "      <td>0.017387</td>\n",
       "      <td>0.013933</td>\n",
       "      <td>0.082316</td>\n",
       "      <td>0.067962</td>\n",
       "      <td>-0.074998</td>\n",
       "      <td>0.004780</td>\n",
       "      <td>-0.017054</td>\n",
       "      <td>0.025407</td>\n",
       "      <td>-0.934236</td>\n",
       "      <td>1.000000</td>\n",
       "      <td>-0.336818</td>\n",
       "      <td>0.339026</td>\n",
       "    </tr>\n",
       "    <tr>\n",
       "      <th>ohe_No</th>\n",
       "      <td>-0.331633</td>\n",
       "      <td>0.012304</td>\n",
       "      <td>-0.001638</td>\n",
       "      <td>-0.051708</td>\n",
       "      <td>-0.075948</td>\n",
       "      <td>-0.131962</td>\n",
       "      <td>0.104580</td>\n",
       "      <td>-0.008884</td>\n",
       "      <td>-0.004257</td>\n",
       "      <td>-0.091478</td>\n",
       "      <td>0.364569</td>\n",
       "      <td>-0.336818</td>\n",
       "      <td>1.000000</td>\n",
       "      <td>-0.989310</td>\n",
       "    </tr>\n",
       "    <tr>\n",
       "      <th>ohe_Yes</th>\n",
       "      <td>0.331511</td>\n",
       "      <td>-0.017671</td>\n",
       "      <td>-0.002497</td>\n",
       "      <td>0.050194</td>\n",
       "      <td>0.080496</td>\n",
       "      <td>0.132472</td>\n",
       "      <td>-0.107107</td>\n",
       "      <td>0.004315</td>\n",
       "      <td>0.000395</td>\n",
       "      <td>0.084281</td>\n",
       "      <td>-0.367389</td>\n",
       "      <td>0.339026</td>\n",
       "      <td>-0.989310</td>\n",
       "      <td>1.000000</td>\n",
       "    </tr>\n",
       "  </tbody>\n",
       "</table>\n",
       "</div>"
      ],
      "text/plain": [
       "                   Dependents  Education  Self_Employed  ApplicantIncome  \\\n",
       "Dependents           1.000000  -0.054909      -0.044505         0.115036   \n",
       "Education           -0.054909   1.000000      -0.008734         0.140760   \n",
       "Self_Employed       -0.044505  -0.008734       1.000000        -0.122728   \n",
       "ApplicantIncome      0.115036   0.140760      -0.122728         1.000000   \n",
       "CoapplicantIncome    0.026683   0.062290       0.021807        -0.116605   \n",
       "LoanAmount           0.142077   0.151678      -0.099575         0.533304   \n",
       "Loan_Amount_Term    -0.085453   0.080674       0.035485        -0.042849   \n",
       "Credit_History      -0.070299   0.084637       0.010803        -0.020183   \n",
       "Property_Area        0.005131   0.065243       0.037106        -0.009500   \n",
       "Loan_Status         -0.003361   0.085884      -0.009035        -0.004710   \n",
       "ohe_Female          -0.171774   0.045364       0.008352        -0.058809   \n",
       "ohe_Male             0.148294  -0.061497       0.017387         0.013933   \n",
       "ohe_No              -0.331633   0.012304      -0.001638        -0.051708   \n",
       "ohe_Yes              0.331511  -0.017671      -0.002497         0.050194   \n",
       "\n",
       "                   CoapplicantIncome  LoanAmount  Loan_Amount_Term  \\\n",
       "Dependents                  0.026683    0.142077         -0.085453   \n",
       "Education                   0.062290    0.151678          0.080674   \n",
       "Self_Employed               0.021807   -0.099575          0.035485   \n",
       "ApplicantIncome            -0.116605    0.533304         -0.042849   \n",
       "CoapplicantIncome           1.000000    0.189895         -0.067336   \n",
       "LoanAmount                  0.189895    1.000000          0.023614   \n",
       "Loan_Amount_Term           -0.067336    0.023614          1.000000   \n",
       "Credit_History              0.009391   -0.013271         -0.031843   \n",
       "Property_Area               0.010522   -0.038868         -0.066556   \n",
       "Loan_Status                -0.059187   -0.044721         -0.033378   \n",
       "ohe_Female                 -0.082912   -0.109263          0.078273   \n",
       "ohe_Male                    0.082316    0.067962         -0.074998   \n",
       "ohe_No                     -0.075948   -0.131962          0.104580   \n",
       "ohe_Yes                     0.080496    0.132472         -0.107107   \n",
       "\n",
       "                   Credit_History  Property_Area  Loan_Status  ohe_Female  \\\n",
       "Dependents              -0.070299       0.005131    -0.003361   -0.171774   \n",
       "Education                0.084637       0.065243     0.085884    0.045364   \n",
       "Self_Employed            0.010803       0.037106    -0.009035    0.008352   \n",
       "ApplicantIncome         -0.020183      -0.009500    -0.004710   -0.058809   \n",
       "CoapplicantIncome        0.009391       0.010522    -0.059187   -0.082912   \n",
       "LoanAmount              -0.013271      -0.038868    -0.044721   -0.109263   \n",
       "Loan_Amount_Term        -0.031843      -0.066556    -0.033378    0.078273   \n",
       "Credit_History           1.000000       0.021124     0.525152    0.004817   \n",
       "Property_Area            0.021124       1.000000     0.032112    0.025752   \n",
       "Loan_Status              0.525152       0.032112     1.000000   -0.017987   \n",
       "ohe_Female               0.004817       0.025752    -0.017987    1.000000   \n",
       "ohe_Male                 0.004780      -0.017054     0.025407   -0.934236   \n",
       "ohe_No                  -0.008884      -0.004257    -0.091478    0.364569   \n",
       "ohe_Yes                  0.004315       0.000395     0.084281   -0.367389   \n",
       "\n",
       "                   ohe_Male    ohe_No   ohe_Yes  \n",
       "Dependents         0.148294 -0.331633  0.331511  \n",
       "Education         -0.061497  0.012304 -0.017671  \n",
       "Self_Employed      0.017387 -0.001638 -0.002497  \n",
       "ApplicantIncome    0.013933 -0.051708  0.050194  \n",
       "CoapplicantIncome  0.082316 -0.075948  0.080496  \n",
       "LoanAmount         0.067962 -0.131962  0.132472  \n",
       "Loan_Amount_Term  -0.074998  0.104580 -0.107107  \n",
       "Credit_History     0.004780 -0.008884  0.004315  \n",
       "Property_Area     -0.017054 -0.004257  0.000395  \n",
       "Loan_Status        0.025407 -0.091478  0.084281  \n",
       "ohe_Female        -0.934236  0.364569 -0.367389  \n",
       "ohe_Male           1.000000 -0.336818  0.339026  \n",
       "ohe_No            -0.336818  1.000000 -0.989310  \n",
       "ohe_Yes            0.339026 -0.989310  1.000000  "
      ]
     },
     "execution_count": 164,
     "metadata": {},
     "output_type": "execute_result"
    }
   ],
   "source": [
    "df1.corr()"
   ]
  },
  {
   "cell_type": "code",
   "execution_count": 165,
   "id": "046915c7-9c08-4da7-98c1-bcf9d9aa55e9",
   "metadata": {},
   "outputs": [
    {
     "data": {
      "text/plain": [
       "<seaborn.axisgrid.PairGrid at 0x26e30a47c40>"
      ]
     },
     "execution_count": 165,
     "metadata": {},
     "output_type": "execute_result"
    },
    {
     "data": {
      "image/png": "[encoded data removed]",
      "text/plain": [
       "<Figure size 2520x2520 with 210 Axes>"
      ]
     },
     "metadata": {
      "needs_background": "light"
     },
     "output_type": "display_data"
    }
   ],
   "source": [
    "sns.pairplot(df1)"
   ]
  },
  {
   "cell_type": "markdown",
   "id": "4feb3083-0631-4a4e-acee-a1b034afab4e",
   "metadata": {},
   "source": [
    "# 6) 7) Model Training and Model Evaluation"
   ]
  },
  {
   "cell_type": "code",
   "execution_count": 166,
   "id": "1a110974-30d1-4654-96df-474c7af7284b",
   "metadata": {},
   "outputs": [],
   "source": [
    "x=df1.drop('Loan_Status',axis=1)\n",
    "y=df['Loan_Status']"
   ]
  },
  {
   "cell_type": "code",
   "execution_count": 167,
   "id": "e926a728-3376-48a5-809c-4adc73258aec",
   "metadata": {},
   "outputs": [
    {
     "data": {
      "text/plain": [
       "((614, 13), (614,))"
      ]
     },
     "execution_count": 167,
     "metadata": {},
     "output_type": "execute_result"
    }
   ],
   "source": [
    "x.shape,y.shape"
   ]
  },
  {
   "cell_type": "code",
   "execution_count": 168,
   "id": "ee857aa4-9994-46e3-a249-f8102c71599e",
   "metadata": {},
   "outputs": [
    {
     "data": {
      "text/plain": [
       "1    422\n",
       "0    192\n",
       "Name: Loan_Status, dtype: int64"
      ]
     },
     "execution_count": 168,
     "metadata": {},
     "output_type": "execute_result"
    }
   ],
   "source": [
    "df1['Loan_Status'].value_counts()           ## The data is imbalanced hence we have to balance the data using SMOTE or RandomOverSampler"
   ]
  },
  {
   "cell_type": "code",
   "execution_count": 169,
   "id": "9c1aca94-04b0-4698-8602-a0815b3bdaff",
   "metadata": {},
   "outputs": [],
   "source": [
    "smt=SMOTE(random_state=13,sampling_strategy=0.95)\n",
    "x_sampled,y_sampled=smt.fit_resample(x,y)"
   ]
  },
  {
   "cell_type": "code",
   "execution_count": 170,
   "id": "55b8b1fa-8679-4ca1-9a6d-d53fc1893862",
   "metadata": {},
   "outputs": [
    {
     "data": {
      "text/plain": [
       "((822, 13), (822,))"
      ]
     },
     "execution_count": 170,
     "metadata": {},
     "output_type": "execute_result"
    }
   ],
   "source": [
    "x_sampled.shape,y_sampled.shape"
   ]
  },
  {
   "cell_type": "code",
   "execution_count": 171,
   "id": "0fc807dd-8d97-4560-a112-be2d24eee520",
   "metadata": {},
   "outputs": [],
   "source": [
    "x_train,x_test,y_train,y_test=train_test_split(x_sampled,y_sampled,random_state=23,test_size=0.25)"
   ]
  },
  {
   "cell_type": "markdown",
   "id": "b3bead8c-b2ba-4228-9a6e-e34ea33b7994",
   "metadata": {},
   "source": [
    "### Logistic Regression"
   ]
  },
  {
   "cell_type": "code",
   "execution_count": 172,
   "id": "6fa616c9-5d91-48ba-8d3a-96a5a294df57",
   "metadata": {},
   "outputs": [
    {
     "name": "stdout",
     "output_type": "stream",
     "text": [
      "Wall time: 49.9 ms\n"
     ]
    },
    {
     "data": {
      "text/html": [
       "<style>#sk-container-id-1 {color: black;background-color: white;}#sk-container-id-1 pre{padding: 0;}#sk-container-id-1 div.sk-toggleable {background-color: white;}#sk-container-id-1 label.sk-toggleable__label {cursor: pointer;display: block;width: 100%;margin-bottom: 0;padding: 0.3em;box-sizing: border-box;text-align: center;}#sk-container-id-1 label.sk-toggleable__label-arrow:before {content: \"▸\";float: left;margin-right: 0.25em;color: #696969;}#sk-container-id-1 label.sk-toggleable__label-arrow:hover:before {color: black;}#sk-container-id-1 div.sk-estimator:hover label.sk-toggleable__label-arrow:before {color: black;}#sk-container-id-1 div.sk-toggleable__content {max-height: 0;max-width: 0;overflow: hidden;text-align: left;background-color: #f0f8ff;}#sk-container-id-1 div.sk-toggleable__content pre {margin: 0.2em;color: black;border-radius: 0.25em;background-color: #f0f8ff;}#sk-container-id-1 input.sk-toggleable__control:checked~div.sk-toggleable__content {max-height: 200px;max-width: 100%;overflow: auto;}#sk-container-id-1 input.sk-toggleable__control:checked~label.sk-toggleable__label-arrow:before {content: \"▾\";}#sk-container-id-1 div.sk-estimator input.sk-toggleable__control:checked~label.sk-toggleable__label {background-color: #d4ebff;}#sk-container-id-1 div.sk-label input.sk-toggleable__control:checked~label.sk-toggleable__label {background-color: #d4ebff;}#sk-container-id-1 input.sk-hidden--visually {border: 0;clip: rect(1px 1px 1px 1px);clip: rect(1px, 1px, 1px, 1px);height: 1px;margin: -1px;overflow: hidden;padding: 0;position: absolute;width: 1px;}#sk-container-id-1 div.sk-estimator {font-family: monospace;background-color: #f0f8ff;border: 1px dotted black;border-radius: 0.25em;box-sizing: border-box;margin-bottom: 0.5em;}#sk-container-id-1 div.sk-estimator:hover {background-color: #d4ebff;}#sk-container-id-1 div.sk-parallel-item::after {content: \"\";width: 100%;border-bottom: 1px solid gray;flex-grow: 1;}#sk-container-id-1 div.sk-label:hover label.sk-toggleable__label {background-color: #d4ebff;}#sk-container-id-1 div.sk-serial::before {content: \"\";position: absolute;border-left: 1px solid gray;box-sizing: border-box;top: 0;bottom: 0;left: 50%;z-index: 0;}#sk-container-id-1 div.sk-serial {display: flex;flex-direction: column;align-items: center;background-color: white;padding-right: 0.2em;padding-left: 0.2em;position: relative;}#sk-container-id-1 div.sk-item {position: relative;z-index: 1;}#sk-container-id-1 div.sk-parallel {display: flex;align-items: stretch;justify-content: center;background-color: white;position: relative;}#sk-container-id-1 div.sk-item::before, #sk-container-id-1 div.sk-parallel-item::before {content: \"\";position: absolute;border-left: 1px solid gray;box-sizing: border-box;top: 0;bottom: 0;left: 50%;z-index: -1;}#sk-container-id-1 div.sk-parallel-item {display: flex;flex-direction: column;z-index: 1;position: relative;background-color: white;}#sk-container-id-1 div.sk-parallel-item:first-child::after {align-self: flex-end;width: 50%;}#sk-container-id-1 div.sk-parallel-item:last-child::after {align-self: flex-start;width: 50%;}#sk-container-id-1 div.sk-parallel-item:only-child::after {width: 0;}#sk-container-id-1 div.sk-dashed-wrapped {border: 1px dashed gray;margin: 0 0.4em 0.5em 0.4em;box-sizing: border-box;padding-bottom: 0.4em;background-color: white;}#sk-container-id-1 div.sk-label label {font-family: monospace;font-weight: bold;display: inline-block;line-height: 1.2em;}#sk-container-id-1 div.sk-label-container {text-align: center;}#sk-container-id-1 div.sk-container {/* jupyter's `normalize.less` sets `[hidden] { display: none; }` but bootstrap.min.css set `[hidden] { display: none !important; }` so we also need the `!important` here to be able to override the default hidden behavior on the sphinx rendered scikit-learn.org. See: https://github.com/scikit-learn/scikit-learn/issues/21755 */display: inline-block !important;position: relative;}#sk-container-id-1 div.sk-text-repr-fallback {display: none;}</style><div id=\"sk-container-id-1\" class=\"sk-top-container\"><div class=\"sk-text-repr-fallback\"><pre>LogisticRegression()</pre><b>In a Jupyter environment, please rerun this cell to show the HTML representation or trust the notebook. <br />On GitHub, the HTML representation is unable to render, please try loading this page with nbviewer.org.</b></div><div class=\"sk-container\" hidden><div class=\"sk-item\"><div class=\"sk-estimator sk-toggleable\"><input class=\"sk-toggleable__control sk-hidden--visually\" id=\"sk-estimator-id-1\" type=\"checkbox\" checked><label for=\"sk-estimator-id-1\" class=\"sk-toggleable__label sk-toggleable__label-arrow\">LogisticRegression</label><div class=\"sk-toggleable__content\"><pre>LogisticRegression()</pre></div></div></div></div></div>"
      ],
      "text/plain": [
       "LogisticRegression()"
      ]
     },
     "execution_count": 172,
     "metadata": {},
     "output_type": "execute_result"
    }
   ],
   "source": [
    "%%time\n",
    "lg_model=LogisticRegression()\n",
    "lg_model.fit(x_train,y_train)"
   ]
  },
  {
   "cell_type": "code",
   "execution_count": 173,
   "id": "653d717c-efd5-4293-b447-354a4cdddbae",
   "metadata": {},
   "outputs": [
    {
     "name": "stdout",
     "output_type": "stream",
     "text": [
      "Test Accuracy =  0.7233009708737864 \n",
      "\n",
      "Test Confusion Matrix =  \n",
      " [[50 49]\n",
      " [ 8 99]] \n",
      "\n",
      "Test Classification Report =  \n",
      "               precision    recall  f1-score   support\n",
      "\n",
      "           0       0.86      0.51      0.64        99\n",
      "           1       0.67      0.93      0.78       107\n",
      "\n",
      "    accuracy                           0.72       206\n",
      "   macro avg       0.77      0.72      0.71       206\n",
      "weighted avg       0.76      0.72      0.71       206\n",
      "\n",
      "Wall time: 8 ms\n"
     ]
    }
   ],
   "source": [
    "%%time\n",
    "y_pred_test=lg_model.predict(x_test)\n",
    "test_accuracy=accuracy_score(y_test,y_pred_test)\n",
    "test_cfg_matrix=confusion_matrix(y_test,y_pred_test)\n",
    "test_clf_report=classification_report(y_test,y_pred_test)\n",
    "print('Test Accuracy = ',test_accuracy,'\\n')\n",
    "print('Test Confusion Matrix = ','\\n',test_cfg_matrix,'\\n')\n",
    "print('Test Classification Report = ','\\n',test_clf_report)"
   ]
  },
  {
   "cell_type": "code",
   "execution_count": 174,
   "id": "3d6214c0-a383-459c-82f8-ad2e43c79999",
   "metadata": {},
   "outputs": [
    {
     "name": "stdout",
     "output_type": "stream",
     "text": [
      "train Accuracy =  0.7548701298701299 \n",
      "\n",
      "train Confusion Matrix =  \n",
      " [[166 135]\n",
      " [ 16 299]] \n",
      "\n",
      "train Classification Report =  \n",
      "               precision    recall  f1-score   support\n",
      "\n",
      "           0       0.91      0.55      0.69       301\n",
      "           1       0.69      0.95      0.80       315\n",
      "\n",
      "    accuracy                           0.75       616\n",
      "   macro avg       0.80      0.75      0.74       616\n",
      "weighted avg       0.80      0.75      0.74       616\n",
      "\n",
      "Wall time: 6.51 ms\n"
     ]
    }
   ],
   "source": [
    "%%time\n",
    "y_pred_train=lg_model.predict(x_train)\n",
    "train_accuracy=accuracy_score(y_train,y_pred_train)\n",
    "train_cfg_matrix=confusion_matrix(y_train,y_pred_train)\n",
    "train_clf_report=classification_report(y_train,y_pred_train)\n",
    "print('train Accuracy = ',train_accuracy,'\\n')\n",
    "print('train Confusion Matrix = ','\\n',train_cfg_matrix,'\\n')\n",
    "print('train Classification Report = ','\\n',train_clf_report)"
   ]
  },
  {
   "cell_type": "code",
   "execution_count": 175,
   "id": "b13ae667-1315-47ea-ad2a-de823f3f20f8",
   "metadata": {},
   "outputs": [
    {
     "name": "stdout",
     "output_type": "stream",
     "text": [
      "LOGISTIC REGRESSION\n",
      "Variance is  3.1569158996343494\n",
      "Bias is  19.512987012987004\n"
     ]
    }
   ],
   "source": [
    "print('LOGISTIC REGRESSION')\n",
    "print('Variance is ',(train_accuracy-test_accuracy)*100)\n",
    "print('Bias is ',(0.95-train_accuracy)*100)"
   ]
  },
  {
   "cell_type": "markdown",
   "id": "ebce4d08-6e5b-45f1-8f6e-7b9404655c2b",
   "metadata": {},
   "source": [
    "### Decision Tree Classifier"
   ]
  },
  {
   "cell_type": "code",
   "execution_count": 176,
   "id": "b5d9a06d-2c5e-4a15-b000-9f58b9cf85a7",
   "metadata": {},
   "outputs": [
    {
     "name": "stdout",
     "output_type": "stream",
     "text": [
      "Wall time: 10.4 ms\n"
     ]
    },
    {
     "data": {
      "text/html": [
       "<style>#sk-container-id-2 {color: black;background-color: white;}#sk-container-id-2 pre{padding: 0;}#sk-container-id-2 div.sk-toggleable {background-color: white;}#sk-container-id-2 label.sk-toggleable__label {cursor: pointer;display: block;width: 100%;margin-bottom: 0;padding: 0.3em;box-sizing: border-box;text-align: center;}#sk-container-id-2 label.sk-toggleable__label-arrow:before {content: \"▸\";float: left;margin-right: 0.25em;color: #696969;}#sk-container-id-2 label.sk-toggleable__label-arrow:hover:before {color: black;}#sk-container-id-2 div.sk-estimator:hover label.sk-toggleable__label-arrow:before {color: black;}#sk-container-id-2 div.sk-toggleable__content {max-height: 0;max-width: 0;overflow: hidden;text-align: left;background-color: #f0f8ff;}#sk-container-id-2 div.sk-toggleable__content pre {margin: 0.2em;color: black;border-radius: 0.25em;background-color: #f0f8ff;}#sk-container-id-2 input.sk-toggleable__control:checked~div.sk-toggleable__content {max-height: 200px;max-width: 100%;overflow: auto;}#sk-container-id-2 input.sk-toggleable__control:checked~label.sk-toggleable__label-arrow:before {content: \"▾\";}#sk-container-id-2 div.sk-estimator input.sk-toggleable__control:checked~label.sk-toggleable__label {background-color: #d4ebff;}#sk-container-id-2 div.sk-label input.sk-toggleable__control:checked~label.sk-toggleable__label {background-color: #d4ebff;}#sk-container-id-2 input.sk-hidden--visually {border: 0;clip: rect(1px 1px 1px 1px);clip: rect(1px, 1px, 1px, 1px);height: 1px;margin: -1px;overflow: hidden;padding: 0;position: absolute;width: 1px;}#sk-container-id-2 div.sk-estimator {font-family: monospace;background-color: #f0f8ff;border: 1px dotted black;border-radius: 0.25em;box-sizing: border-box;margin-bottom: 0.5em;}#sk-container-id-2 div.sk-estimator:hover {background-color: #d4ebff;}#sk-container-id-2 div.sk-parallel-item::after {content: \"\";width: 100%;border-bottom: 1px solid gray;flex-grow: 1;}#sk-container-id-2 div.sk-label:hover label.sk-toggleable__label {background-color: #d4ebff;}#sk-container-id-2 div.sk-serial::before {content: \"\";position: absolute;border-left: 1px solid gray;box-sizing: border-box;top: 0;bottom: 0;left: 50%;z-index: 0;}#sk-container-id-2 div.sk-serial {display: flex;flex-direction: column;align-items: center;background-color: white;padding-right: 0.2em;padding-left: 0.2em;position: relative;}#sk-container-id-2 div.sk-item {position: relative;z-index: 1;}#sk-container-id-2 div.sk-parallel {display: flex;align-items: stretch;justify-content: center;background-color: white;position: relative;}#sk-container-id-2 div.sk-item::before, #sk-container-id-2 div.sk-parallel-item::before {content: \"\";position: absolute;border-left: 1px solid gray;box-sizing: border-box;top: 0;bottom: 0;left: 50%;z-index: -1;}#sk-container-id-2 div.sk-parallel-item {display: flex;flex-direction: column;z-index: 1;position: relative;background-color: white;}#sk-container-id-2 div.sk-parallel-item:first-child::after {align-self: flex-end;width: 50%;}#sk-container-id-2 div.sk-parallel-item:last-child::after {align-self: flex-start;width: 50%;}#sk-container-id-2 div.sk-parallel-item:only-child::after {width: 0;}#sk-container-id-2 div.sk-dashed-wrapped {border: 1px dashed gray;margin: 0 0.4em 0.5em 0.4em;box-sizing: border-box;padding-bottom: 0.4em;background-color: white;}#sk-container-id-2 div.sk-label label {font-family: monospace;font-weight: bold;display: inline-block;line-height: 1.2em;}#sk-container-id-2 div.sk-label-container {text-align: center;}#sk-container-id-2 div.sk-container {/* jupyter's `normalize.less` sets `[hidden] { display: none; }` but bootstrap.min.css set `[hidden] { display: none !important; }` so we also need the `!important` here to be able to override the default hidden behavior on the sphinx rendered scikit-learn.org. See: https://github.com/scikit-learn/scikit-learn/issues/21755 */display: inline-block !important;position: relative;}#sk-container-id-2 div.sk-text-repr-fallback {display: none;}</style><div id=\"sk-container-id-2\" class=\"sk-top-container\"><div class=\"sk-text-repr-fallback\"><pre>DecisionTreeClassifier()</pre><b>In a Jupyter environment, please rerun this cell to show the HTML representation or trust the notebook. <br />On GitHub, the HTML representation is unable to render, please try loading this page with nbviewer.org.</b></div><div class=\"sk-container\" hidden><div class=\"sk-item\"><div class=\"sk-estimator sk-toggleable\"><input class=\"sk-toggleable__control sk-hidden--visually\" id=\"sk-estimator-id-2\" type=\"checkbox\" checked><label for=\"sk-estimator-id-2\" class=\"sk-toggleable__label sk-toggleable__label-arrow\">DecisionTreeClassifier</label><div class=\"sk-toggleable__content\"><pre>DecisionTreeClassifier()</pre></div></div></div></div></div>"
      ],
      "text/plain": [
       "DecisionTreeClassifier()"
      ]
     },
     "execution_count": 176,
     "metadata": {},
     "output_type": "execute_result"
    }
   ],
   "source": [
    "%%time\n",
    "dt_model=DecisionTreeClassifier()\n",
    "dt_model.fit(x_train,y_train)"
   ]
  },
  {
   "cell_type": "code",
   "execution_count": 177,
   "id": "56351cde-dd64-4def-81d5-a99a3c66351e",
   "metadata": {},
   "outputs": [
    {
     "name": "stdout",
     "output_type": "stream",
     "text": [
      "Test Accuracy =  0.7524271844660194 \n",
      "\n",
      "Test Confusion Matrix =  \n",
      " [[69 30]\n",
      " [21 86]] \n",
      "\n",
      "Test Classification Report =  \n",
      "               precision    recall  f1-score   support\n",
      "\n",
      "           0       0.77      0.70      0.73        99\n",
      "           1       0.74      0.80      0.77       107\n",
      "\n",
      "    accuracy                           0.75       206\n",
      "   macro avg       0.75      0.75      0.75       206\n",
      "weighted avg       0.75      0.75      0.75       206\n",
      "\n",
      "Wall time: 8.76 ms\n"
     ]
    }
   ],
   "source": [
    "%%time\n",
    "y_pred_test=dt_model.predict(x_test)\n",
    "test_accuracy=accuracy_score(y_test,y_pred_test)\n",
    "test_cfg_matrix=confusion_matrix(y_test,y_pred_test)\n",
    "test_clf_report=classification_report(y_test,y_pred_test)\n",
    "print('Test Accuracy = ',test_accuracy,'\\n')\n",
    "print('Test Confusion Matrix = ','\\n',test_cfg_matrix,'\\n')\n",
    "print('Test Classification Report = ','\\n',test_clf_report)"
   ]
  },
  {
   "cell_type": "code",
   "execution_count": 178,
   "id": "bc9c287b-7b2f-4cd5-bdc9-5774f5d4d5a2",
   "metadata": {},
   "outputs": [
    {
     "name": "stdout",
     "output_type": "stream",
     "text": [
      "train Accuracy =  1.0 \n",
      "\n",
      "train Confusion Matrix =  \n",
      " [[301   0]\n",
      " [  0 315]] \n",
      "\n",
      "train Classification Report =  \n",
      "               precision    recall  f1-score   support\n",
      "\n",
      "           0       1.00      1.00      1.00       301\n",
      "           1       1.00      1.00      1.00       315\n",
      "\n",
      "    accuracy                           1.00       616\n",
      "   macro avg       1.00      1.00      1.00       616\n",
      "weighted avg       1.00      1.00      1.00       616\n",
      "\n",
      "Wall time: 6 ms\n"
     ]
    }
   ],
   "source": [
    "%%time\n",
    "y_pred_train=dt_model.predict(x_train)\n",
    "train_accuracy=accuracy_score(y_train,y_pred_train)\n",
    "train_cfg_matrix=confusion_matrix(y_train,y_pred_train)\n",
    "train_clf_report=classification_report(y_train,y_pred_train)\n",
    "print('train Accuracy = ',train_accuracy,'\\n')\n",
    "print('train Confusion Matrix = ','\\n',train_cfg_matrix,'\\n')\n",
    "print('train Classification Report = ','\\n',train_clf_report)"
   ]
  },
  {
   "cell_type": "code",
   "execution_count": 179,
   "id": "5426f430-7dae-445e-a0bd-364753ae4510",
   "metadata": {},
   "outputs": [
    {
     "name": "stdout",
     "output_type": "stream",
     "text": [
      "LOGISTIC REGRESSION\n",
      "Variance is  24.75728155339806\n",
      "Bias is  -5.000000000000004\n"
     ]
    }
   ],
   "source": [
    "print('LOGISTIC REGRESSION')\n",
    "print('Variance is ',(train_accuracy-test_accuracy)*100)\n",
    "print('Bias is ',(0.95-train_accuracy)*100)"
   ]
  },
  {
   "cell_type": "markdown",
   "id": "3c9020f4-64bf-4115-a464-a55d075f8afb",
   "metadata": {},
   "source": [
    "### Random Forest Classifier"
   ]
  },
  {
   "cell_type": "code",
   "execution_count": 180,
   "id": "fcfa01fb-8843-4bea-a5a2-e5e40e4ba9cf",
   "metadata": {},
   "outputs": [
    {
     "name": "stdout",
     "output_type": "stream",
     "text": [
      "Wall time: 173 ms\n"
     ]
    },
    {
     "data": {
      "text/html": [
       "<style>#sk-container-id-3 {color: black;background-color: white;}#sk-container-id-3 pre{padding: 0;}#sk-container-id-3 div.sk-toggleable {background-color: white;}#sk-container-id-3 label.sk-toggleable__label {cursor: pointer;display: block;width: 100%;margin-bottom: 0;padding: 0.3em;box-sizing: border-box;text-align: center;}#sk-container-id-3 label.sk-toggleable__label-arrow:before {content: \"▸\";float: left;margin-right: 0.25em;color: #696969;}#sk-container-id-3 label.sk-toggleable__label-arrow:hover:before {color: black;}#sk-container-id-3 div.sk-estimator:hover label.sk-toggleable__label-arrow:before {color: black;}#sk-container-id-3 div.sk-toggleable__content {max-height: 0;max-width: 0;overflow: hidden;text-align: left;background-color: #f0f8ff;}#sk-container-id-3 div.sk-toggleable__content pre {margin: 0.2em;color: black;border-radius: 0.25em;background-color: #f0f8ff;}#sk-container-id-3 input.sk-toggleable__control:checked~div.sk-toggleable__content {max-height: 200px;max-width: 100%;overflow: auto;}#sk-container-id-3 input.sk-toggleable__control:checked~label.sk-toggleable__label-arrow:before {content: \"▾\";}#sk-container-id-3 div.sk-estimator input.sk-toggleable__control:checked~label.sk-toggleable__label {background-color: #d4ebff;}#sk-container-id-3 div.sk-label input.sk-toggleable__control:checked~label.sk-toggleable__label {background-color: #d4ebff;}#sk-container-id-3 input.sk-hidden--visually {border: 0;clip: rect(1px 1px 1px 1px);clip: rect(1px, 1px, 1px, 1px);height: 1px;margin: -1px;overflow: hidden;padding: 0;position: absolute;width: 1px;}#sk-container-id-3 div.sk-estimator {font-family: monospace;background-color: #f0f8ff;border: 1px dotted black;border-radius: 0.25em;box-sizing: border-box;margin-bottom: 0.5em;}#sk-container-id-3 div.sk-estimator:hover {background-color: #d4ebff;}#sk-container-id-3 div.sk-parallel-item::after {content: \"\";width: 100%;border-bottom: 1px solid gray;flex-grow: 1;}#sk-container-id-3 div.sk-label:hover label.sk-toggleable__label {background-color: #d4ebff;}#sk-container-id-3 div.sk-serial::before {content: \"\";position: absolute;border-left: 1px solid gray;box-sizing: border-box;top: 0;bottom: 0;left: 50%;z-index: 0;}#sk-container-id-3 div.sk-serial {display: flex;flex-direction: column;align-items: center;background-color: white;padding-right: 0.2em;padding-left: 0.2em;position: relative;}#sk-container-id-3 div.sk-item {position: relative;z-index: 1;}#sk-container-id-3 div.sk-parallel {display: flex;align-items: stretch;justify-content: center;background-color: white;position: relative;}#sk-container-id-3 div.sk-item::before, #sk-container-id-3 div.sk-parallel-item::before {content: \"\";position: absolute;border-left: 1px solid gray;box-sizing: border-box;top: 0;bottom: 0;left: 50%;z-index: -1;}#sk-container-id-3 div.sk-parallel-item {display: flex;flex-direction: column;z-index: 1;position: relative;background-color: white;}#sk-container-id-3 div.sk-parallel-item:first-child::after {align-self: flex-end;width: 50%;}#sk-container-id-3 div.sk-parallel-item:last-child::after {align-self: flex-start;width: 50%;}#sk-container-id-3 div.sk-parallel-item:only-child::after {width: 0;}#sk-container-id-3 div.sk-dashed-wrapped {border: 1px dashed gray;margin: 0 0.4em 0.5em 0.4em;box-sizing: border-box;padding-bottom: 0.4em;background-color: white;}#sk-container-id-3 div.sk-label label {font-family: monospace;font-weight: bold;display: inline-block;line-height: 1.2em;}#sk-container-id-3 div.sk-label-container {text-align: center;}#sk-container-id-3 div.sk-container {/* jupyter's `normalize.less` sets `[hidden] { display: none; }` but bootstrap.min.css set `[hidden] { display: none !important; }` so we also need the `!important` here to be able to override the default hidden behavior on the sphinx rendered scikit-learn.org. See: https://github.com/scikit-learn/scikit-learn/issues/21755 */display: inline-block !important;position: relative;}#sk-container-id-3 div.sk-text-repr-fallback {display: none;}</style><div id=\"sk-container-id-3\" class=\"sk-top-container\"><div class=\"sk-text-repr-fallback\"><pre>RandomForestClassifier()</pre><b>In a Jupyter environment, please rerun this cell to show the HTML representation or trust the notebook. <br />On GitHub, the HTML representation is unable to render, please try loading this page with nbviewer.org.</b></div><div class=\"sk-container\" hidden><div class=\"sk-item\"><div class=\"sk-estimator sk-toggleable\"><input class=\"sk-toggleable__control sk-hidden--visually\" id=\"sk-estimator-id-3\" type=\"checkbox\" checked><label for=\"sk-estimator-id-3\" class=\"sk-toggleable__label sk-toggleable__label-arrow\">RandomForestClassifier</label><div class=\"sk-toggleable__content\"><pre>RandomForestClassifier()</pre></div></div></div></div></div>"
      ],
      "text/plain": [
       "RandomForestClassifier()"
      ]
     },
     "execution_count": 180,
     "metadata": {},
     "output_type": "execute_result"
    }
   ],
   "source": [
    "%%time\n",
    "rfc_model=RandomForestClassifier()\n",
    "rfc_model.fit(x_train,y_train)"
   ]
  },
  {
   "cell_type": "code",
   "execution_count": 181,
   "id": "328003b9-1fc7-4cc0-ae04-d3134327ec72",
   "metadata": {},
   "outputs": [
    {
     "name": "stdout",
     "output_type": "stream",
     "text": [
      "Test Accuracy =  0.8009708737864077 \n",
      "\n",
      "Test Confusion Matrix =  \n",
      " [[73 26]\n",
      " [15 92]] \n",
      "\n",
      "Test Classification Report =  \n",
      "               precision    recall  f1-score   support\n",
      "\n",
      "           0       0.83      0.74      0.78        99\n",
      "           1       0.78      0.86      0.82       107\n",
      "\n",
      "    accuracy                           0.80       206\n",
      "   macro avg       0.80      0.80      0.80       206\n",
      "weighted avg       0.80      0.80      0.80       206\n",
      "\n",
      "Wall time: 16 ms\n"
     ]
    }
   ],
   "source": [
    "%%time\n",
    "y_pred_test=rfc_model.predict(x_test)\n",
    "test_accuracy=accuracy_score(y_test,y_pred_test)\n",
    "test_cfg_matrix=confusion_matrix(y_test,y_pred_test)\n",
    "test_clf_report=classification_report(y_test,y_pred_test)\n",
    "print('Test Accuracy = ',test_accuracy,'\\n')\n",
    "print('Test Confusion Matrix = ','\\n',test_cfg_matrix,'\\n')\n",
    "print('Test Classification Report = ','\\n',test_clf_report)"
   ]
  },
  {
   "cell_type": "code",
   "execution_count": 182,
   "id": "4aaf1e0d-7ecd-43dd-9bda-4eabdfdd7892",
   "metadata": {},
   "outputs": [
    {
     "name": "stdout",
     "output_type": "stream",
     "text": [
      "train Accuracy =  1.0 \n",
      "\n",
      "train Confusion Matrix =  \n",
      " [[301   0]\n",
      " [  0 315]] \n",
      "\n",
      "train Classification Report =  \n",
      "               precision    recall  f1-score   support\n",
      "\n",
      "           0       1.00      1.00      1.00       301\n",
      "           1       1.00      1.00      1.00       315\n",
      "\n",
      "    accuracy                           1.00       616\n",
      "   macro avg       1.00      1.00      1.00       616\n",
      "weighted avg       1.00      1.00      1.00       616\n",
      "\n",
      "Wall time: 28.5 ms\n"
     ]
    }
   ],
   "source": [
    "%%time\n",
    "y_pred_train=rfc_model.predict(x_train)\n",
    "train_accuracy=accuracy_score(y_train,y_pred_train)\n",
    "train_cfg_matrix=confusion_matrix(y_train,y_pred_train)\n",
    "train_clf_report=classification_report(y_train,y_pred_train)\n",
    "print('train Accuracy = ',train_accuracy,'\\n')\n",
    "print('train Confusion Matrix = ','\\n',train_cfg_matrix,'\\n')\n",
    "print('train Classification Report = ','\\n',train_clf_report)"
   ]
  },
  {
   "cell_type": "code",
   "execution_count": 183,
   "id": "6faacdd5-6ef0-4304-87c7-2555ff9c7905",
   "metadata": {},
   "outputs": [
    {
     "name": "stdout",
     "output_type": "stream",
     "text": [
      "RANDOM FOREST CLASSIFIER\n",
      "Variance is  19.902912621359224\n",
      "Bias is  -5.000000000000004\n"
     ]
    }
   ],
   "source": [
    "print('RANDOM FOREST CLASSIFIER')\n",
    "print('Variance is ',(train_accuracy-test_accuracy)*100)\n",
    "print('Bias is ',(0.95-train_accuracy)*100)"
   ]
  },
  {
   "cell_type": "code",
   "execution_count": 206,
   "id": "f1a3ede4-23ce-4c7b-8e7e-bd9b6c027bc2",
   "metadata": {},
   "outputs": [
    {
     "data": {
      "text/plain": [
       "<sklearn.metrics._plot.roc_curve.RocCurveDisplay at 0x26e3905d970>"
      ]
     },
     "execution_count": 206,
     "metadata": {},
     "output_type": "execute_result"
    },
    {
     "data": {
      "image/png": "[encoded data removed]",
      "text/plain": [
       "<Figure size 432x288 with 1 Axes>"
      ]
     },
     "metadata": {
      "needs_background": "light"
     },
     "output_type": "display_data"
    }
   ],
   "source": [
    "plot_roc_curve(rfc_model,x_test,y_test)"
   ]
  },
  {
   "cell_type": "markdown",
   "id": "fc3859f8-0d94-4c71-86c3-2465683c7248",
   "metadata": {},
   "source": [
    "### Here we can find the most important features"
   ]
  },
  {
   "cell_type": "code",
   "execution_count": 236,
   "id": "cf73ab27-3da2-45be-99f1-a9810e1c2e65",
   "metadata": {},
   "outputs": [
    {
     "data": {
      "text/plain": [
       "<AxesSubplot:xlabel='Feature Name'>"
      ]
     },
     "execution_count": 236,
     "metadata": {},
     "output_type": "execute_result"
    },
    {
     "data": {
      "image/png": "[encoded data removed]",
      "text/plain": [
       "<Figure size 432x288 with 1 Axes>"
      ]
     },
     "metadata": {
      "needs_background": "light"
     },
     "output_type": "display_data"
    }
   ],
   "source": [
    "df_imp_features=pd.DataFrame({'Feature Name':x.columns,'Feature Score':rfc_model.feature_importances_})\n",
    "df_imp_features.plot(0,kind='bar')            \n",
    "\n",
    "## More the feature score , more important it is."
   ]
  },
  {
   "cell_type": "markdown",
   "id": "49f89d7a-34dc-4d1c-bbec-cb7a5e22a2eb",
   "metadata": {},
   "source": [
    "### XGBClassifer"
   ]
  },
  {
   "cell_type": "code",
   "execution_count": 185,
   "id": "e9d52276-27dd-442e-ac9c-e9cbce924e38",
   "metadata": {},
   "outputs": [
    {
     "name": "stdout",
     "output_type": "stream",
     "text": [
      "Wall time: 480 ms\n"
     ]
    },
    {
     "data": {
      "text/html": [
       "<style>#sk-container-id-4 {color: black;background-color: white;}#sk-container-id-4 pre{padding: 0;}#sk-container-id-4 div.sk-toggleable {background-color: white;}#sk-container-id-4 label.sk-toggleable__label {cursor: pointer;display: block;width: 100%;margin-bottom: 0;padding: 0.3em;box-sizing: border-box;text-align: center;}#sk-container-id-4 label.sk-toggleable__label-arrow:before {content: \"▸\";float: left;margin-right: 0.25em;color: #696969;}#sk-container-id-4 label.sk-toggleable__label-arrow:hover:before {color: black;}#sk-container-id-4 div.sk-estimator:hover label.sk-toggleable__label-arrow:before {color: black;}#sk-container-id-4 div.sk-toggleable__content {max-height: 0;max-width: 0;overflow: hidden;text-align: left;background-color: #f0f8ff;}#sk-container-id-4 div.sk-toggleable__content pre {margin: 0.2em;color: black;border-radius: 0.25em;background-color: #f0f8ff;}#sk-container-id-4 input.sk-toggleable__control:checked~div.sk-toggleable__content {max-height: 200px;max-width: 100%;overflow: auto;}#sk-container-id-4 input.sk-toggleable__control:checked~label.sk-toggleable__label-arrow:before {content: \"▾\";}#sk-container-id-4 div.sk-estimator input.sk-toggleable__control:checked~label.sk-toggleable__label {background-color: #d4ebff;}#sk-container-id-4 div.sk-label input.sk-toggleable__control:checked~label.sk-toggleable__label {background-color: #d4ebff;}#sk-container-id-4 input.sk-hidden--visually {border: 0;clip: rect(1px 1px 1px 1px);clip: rect(1px, 1px, 1px, 1px);height: 1px;margin: -1px;overflow: hidden;padding: 0;position: absolute;width: 1px;}#sk-container-id-4 div.sk-estimator {font-family: monospace;background-color: #f0f8ff;border: 1px dotted black;border-radius: 0.25em;box-sizing: border-box;margin-bottom: 0.5em;}#sk-container-id-4 div.sk-estimator:hover {background-color: #d4ebff;}#sk-container-id-4 div.sk-parallel-item::after {content: \"\";width: 100%;border-bottom: 1px solid gray;flex-grow: 1;}#sk-container-id-4 div.sk-label:hover label.sk-toggleable__label {background-color: #d4ebff;}#sk-container-id-4 div.sk-serial::before {content: \"\";position: absolute;border-left: 1px solid gray;box-sizing: border-box;top: 0;bottom: 0;left: 50%;z-index: 0;}#sk-container-id-4 div.sk-serial {display: flex;flex-direction: column;align-items: center;background-color: white;padding-right: 0.2em;padding-left: 0.2em;position: relative;}#sk-container-id-4 div.sk-item {position: relative;z-index: 1;}#sk-container-id-4 div.sk-parallel {display: flex;align-items: stretch;justify-content: center;background-color: white;position: relative;}#sk-container-id-4 div.sk-item::before, #sk-container-id-4 div.sk-parallel-item::before {content: \"\";position: absolute;border-left: 1px solid gray;box-sizing: border-box;top: 0;bottom: 0;left: 50%;z-index: -1;}#sk-container-id-4 div.sk-parallel-item {display: flex;flex-direction: column;z-index: 1;position: relative;background-color: white;}#sk-container-id-4 div.sk-parallel-item:first-child::after {align-self: flex-end;width: 50%;}#sk-container-id-4 div.sk-parallel-item:last-child::after {align-self: flex-start;width: 50%;}#sk-container-id-4 div.sk-parallel-item:only-child::after {width: 0;}#sk-container-id-4 div.sk-dashed-wrapped {border: 1px dashed gray;margin: 0 0.4em 0.5em 0.4em;box-sizing: border-box;padding-bottom: 0.4em;background-color: white;}#sk-container-id-4 div.sk-label label {font-family: monospace;font-weight: bold;display: inline-block;line-height: 1.2em;}#sk-container-id-4 div.sk-label-container {text-align: center;}#sk-container-id-4 div.sk-container {/* jupyter's `normalize.less` sets `[hidden] { display: none; }` but bootstrap.min.css set `[hidden] { display: none !important; }` so we also need the `!important` here to be able to override the default hidden behavior on the sphinx rendered scikit-learn.org. See: https://github.com/scikit-learn/scikit-learn/issues/21755 */display: inline-block !important;position: relative;}#sk-container-id-4 div.sk-text-repr-fallback {display: none;}</style><div id=\"sk-container-id-4\" class=\"sk-top-container\"><div class=\"sk-text-repr-fallback\"><pre>XGBClassifier(base_score=0.5, booster=&#x27;gbtree&#x27;, callbacks=None,\n",
       "              colsample_bylevel=1, colsample_bynode=1, colsample_bytree=1,\n",
       "              early_stopping_rounds=None, enable_categorical=False,\n",
       "              eval_metric=None, gamma=0, gpu_id=-1, grow_policy=&#x27;depthwise&#x27;,\n",
       "              importance_type=None, interaction_constraints=&#x27;&#x27;,\n",
       "              learning_rate=0.300000012, max_bin=256, max_cat_to_onehot=4,\n",
       "              max_delta_step=0, max_depth=6, max_leaves=0, min_child_weight=1,\n",
       "              missing=nan, monotone_constraints=&#x27;()&#x27;, n_estimators=100,\n",
       "              n_jobs=0, num_parallel_tree=1, predictor=&#x27;auto&#x27;, random_state=0,\n",
       "              reg_alpha=0, reg_lambda=1, ...)</pre><b>In a Jupyter environment, please rerun this cell to show the HTML representation or trust the notebook. <br />On GitHub, the HTML representation is unable to render, please try loading this page with nbviewer.org.</b></div><div class=\"sk-container\" hidden><div class=\"sk-item\"><div class=\"sk-estimator sk-toggleable\"><input class=\"sk-toggleable__control sk-hidden--visually\" id=\"sk-estimator-id-4\" type=\"checkbox\" checked><label for=\"sk-estimator-id-4\" class=\"sk-toggleable__label sk-toggleable__label-arrow\">XGBClassifier</label><div class=\"sk-toggleable__content\"><pre>XGBClassifier(base_score=0.5, booster=&#x27;gbtree&#x27;, callbacks=None,\n",
       "              colsample_bylevel=1, colsample_bynode=1, colsample_bytree=1,\n",
       "              early_stopping_rounds=None, enable_categorical=False,\n",
       "              eval_metric=None, gamma=0, gpu_id=-1, grow_policy=&#x27;depthwise&#x27;,\n",
       "              importance_type=None, interaction_constraints=&#x27;&#x27;,\n",
       "              learning_rate=0.300000012, max_bin=256, max_cat_to_onehot=4,\n",
       "              max_delta_step=0, max_depth=6, max_leaves=0, min_child_weight=1,\n",
       "              missing=nan, monotone_constraints=&#x27;()&#x27;, n_estimators=100,\n",
       "              n_jobs=0, num_parallel_tree=1, predictor=&#x27;auto&#x27;, random_state=0,\n",
       "              reg_alpha=0, reg_lambda=1, ...)</pre></div></div></div></div></div>"
      ],
      "text/plain": [
       "XGBClassifier(base_score=0.5, booster='gbtree', callbacks=None,\n",
       "              colsample_bylevel=1, colsample_bynode=1, colsample_bytree=1,\n",
       "              early_stopping_rounds=None, enable_categorical=False,\n",
       "              eval_metric=None, gamma=0, gpu_id=-1, grow_policy='depthwise',\n",
       "              importance_type=None, interaction_constraints='',\n",
       "              learning_rate=0.300000012, max_bin=256, max_cat_to_onehot=4,\n",
       "              max_delta_step=0, max_depth=6, max_leaves=0, min_child_weight=1,\n",
       "              missing=nan, monotone_constraints='()', n_estimators=100,\n",
       "              n_jobs=0, num_parallel_tree=1, predictor='auto', random_state=0,\n",
       "              reg_alpha=0, reg_lambda=1, ...)"
      ]
     },
     "execution_count": 185,
     "metadata": {},
     "output_type": "execute_result"
    }
   ],
   "source": [
    "%%time\n",
    "xgb_model=xgboost.XGBClassifier()\n",
    "xgb_model.fit(x_train,y_train)"
   ]
  },
  {
   "cell_type": "code",
   "execution_count": 186,
   "id": "bf85f026-bced-4b29-b2e4-790e72f42e25",
   "metadata": {},
   "outputs": [
    {
     "name": "stdout",
     "output_type": "stream",
     "text": [
      "Test Accuracy =  0.7864077669902912 \n",
      "\n",
      "Test Confusion Matrix =  \n",
      " [[70 29]\n",
      " [15 92]] \n",
      "\n",
      "Test Classification Report =  \n",
      "               precision    recall  f1-score   support\n",
      "\n",
      "           0       0.82      0.71      0.76        99\n",
      "           1       0.76      0.86      0.81       107\n",
      "\n",
      "    accuracy                           0.79       206\n",
      "   macro avg       0.79      0.78      0.78       206\n",
      "weighted avg       0.79      0.79      0.78       206\n",
      "\n",
      "Wall time: 8.51 ms\n"
     ]
    }
   ],
   "source": [
    "%%time\n",
    "y_pred_test=xgb_model.predict(x_test)\n",
    "test_accuracy=accuracy_score(y_test,y_pred_test)\n",
    "test_cfg_matrix=confusion_matrix(y_test,y_pred_test)\n",
    "test_clf_report=classification_report(y_test,y_pred_test)\n",
    "print('Test Accuracy = ',test_accuracy,'\\n')\n",
    "print('Test Confusion Matrix = ','\\n',test_cfg_matrix,'\\n')\n",
    "print('Test Classification Report = ','\\n',test_clf_report)"
   ]
  },
  {
   "cell_type": "code",
   "execution_count": 187,
   "id": "f1468ff9-e84c-439f-9d6c-40596784d97e",
   "metadata": {},
   "outputs": [
    {
     "name": "stdout",
     "output_type": "stream",
     "text": [
      "train Accuracy =  1.0 \n",
      "\n",
      "train Confusion Matrix =  \n",
      " [[301   0]\n",
      " [  0 315]] \n",
      "\n",
      "train Classification Report =  \n",
      "               precision    recall  f1-score   support\n",
      "\n",
      "           0       1.00      1.00      1.00       301\n",
      "           1       1.00      1.00      1.00       315\n",
      "\n",
      "    accuracy                           1.00       616\n",
      "   macro avg       1.00      1.00      1.00       616\n",
      "weighted avg       1.00      1.00      1.00       616\n",
      "\n",
      "Wall time: 9.03 ms\n"
     ]
    }
   ],
   "source": [
    "%%time\n",
    "y_pred_train=xgb_model.predict(x_train)\n",
    "train_accuracy=accuracy_score(y_train,y_pred_train)\n",
    "train_cfg_matrix=confusion_matrix(y_train,y_pred_train)\n",
    "train_clf_report=classification_report(y_train,y_pred_train)\n",
    "print('train Accuracy = ',train_accuracy,'\\n')\n",
    "print('train Confusion Matrix = ','\\n',train_cfg_matrix,'\\n')\n",
    "print('train Classification Report = ','\\n',train_clf_report)"
   ]
  },
  {
   "cell_type": "code",
   "execution_count": 188,
   "id": "e2e188ec-aa25-4f47-a16e-95b8ad7b3122",
   "metadata": {},
   "outputs": [
    {
     "name": "stdout",
     "output_type": "stream",
     "text": [
      "XGBCLASSIFIER\n",
      "Variance is  21.359223300970875\n",
      "Bias is  -5.000000000000004\n"
     ]
    }
   ],
   "source": [
    "print('XGBCLASSIFIER')\n",
    "print('Variance is ',(train_accuracy-test_accuracy)*100)\n",
    "print('Bias is ',(0.95-train_accuracy)*100)"
   ]
  },
  {
   "cell_type": "markdown",
   "id": "a44ac31d-1e6c-429d-b13b-b6d2bbc7b31e",
   "metadata": {},
   "source": [
    "### SVC"
   ]
  },
  {
   "cell_type": "code",
   "execution_count": 189,
   "id": "61e37f7b-cc8b-4d44-8fd3-e4ac1bda7cf8",
   "metadata": {},
   "outputs": [
    {
     "name": "stdout",
     "output_type": "stream",
     "text": [
      "Wall time: 29.7 ms\n"
     ]
    },
    {
     "data": {
      "text/html": [
       "<style>#sk-container-id-5 {color: black;background-color: white;}#sk-container-id-5 pre{padding: 0;}#sk-container-id-5 div.sk-toggleable {background-color: white;}#sk-container-id-5 label.sk-toggleable__label {cursor: pointer;display: block;width: 100%;margin-bottom: 0;padding: 0.3em;box-sizing: border-box;text-align: center;}#sk-container-id-5 label.sk-toggleable__label-arrow:before {content: \"▸\";float: left;margin-right: 0.25em;color: #696969;}#sk-container-id-5 label.sk-toggleable__label-arrow:hover:before {color: black;}#sk-container-id-5 div.sk-estimator:hover label.sk-toggleable__label-arrow:before {color: black;}#sk-container-id-5 div.sk-toggleable__content {max-height: 0;max-width: 0;overflow: hidden;text-align: left;background-color: #f0f8ff;}#sk-container-id-5 div.sk-toggleable__content pre {margin: 0.2em;color: black;border-radius: 0.25em;background-color: #f0f8ff;}#sk-container-id-5 input.sk-toggleable__control:checked~div.sk-toggleable__content {max-height: 200px;max-width: 100%;overflow: auto;}#sk-container-id-5 input.sk-toggleable__control:checked~label.sk-toggleable__label-arrow:before {content: \"▾\";}#sk-container-id-5 div.sk-estimator input.sk-toggleable__control:checked~label.sk-toggleable__label {background-color: #d4ebff;}#sk-container-id-5 div.sk-label input.sk-toggleable__control:checked~label.sk-toggleable__label {background-color: #d4ebff;}#sk-container-id-5 input.sk-hidden--visually {border: 0;clip: rect(1px 1px 1px 1px);clip: rect(1px, 1px, 1px, 1px);height: 1px;margin: -1px;overflow: hidden;padding: 0;position: absolute;width: 1px;}#sk-container-id-5 div.sk-estimator {font-family: monospace;background-color: #f0f8ff;border: 1px dotted black;border-radius: 0.25em;box-sizing: border-box;margin-bottom: 0.5em;}#sk-container-id-5 div.sk-estimator:hover {background-color: #d4ebff;}#sk-container-id-5 div.sk-parallel-item::after {content: \"\";width: 100%;border-bottom: 1px solid gray;flex-grow: 1;}#sk-container-id-5 div.sk-label:hover label.sk-toggleable__label {background-color: #d4ebff;}#sk-container-id-5 div.sk-serial::before {content: \"\";position: absolute;border-left: 1px solid gray;box-sizing: border-box;top: 0;bottom: 0;left: 50%;z-index: 0;}#sk-container-id-5 div.sk-serial {display: flex;flex-direction: column;align-items: center;background-color: white;padding-right: 0.2em;padding-left: 0.2em;position: relative;}#sk-container-id-5 div.sk-item {position: relative;z-index: 1;}#sk-container-id-5 div.sk-parallel {display: flex;align-items: stretch;justify-content: center;background-color: white;position: relative;}#sk-container-id-5 div.sk-item::before, #sk-container-id-5 div.sk-parallel-item::before {content: \"\";position: absolute;border-left: 1px solid gray;box-sizing: border-box;top: 0;bottom: 0;left: 50%;z-index: -1;}#sk-container-id-5 div.sk-parallel-item {display: flex;flex-direction: column;z-index: 1;position: relative;background-color: white;}#sk-container-id-5 div.sk-parallel-item:first-child::after {align-self: flex-end;width: 50%;}#sk-container-id-5 div.sk-parallel-item:last-child::after {align-self: flex-start;width: 50%;}#sk-container-id-5 div.sk-parallel-item:only-child::after {width: 0;}#sk-container-id-5 div.sk-dashed-wrapped {border: 1px dashed gray;margin: 0 0.4em 0.5em 0.4em;box-sizing: border-box;padding-bottom: 0.4em;background-color: white;}#sk-container-id-5 div.sk-label label {font-family: monospace;font-weight: bold;display: inline-block;line-height: 1.2em;}#sk-container-id-5 div.sk-label-container {text-align: center;}#sk-container-id-5 div.sk-container {/* jupyter's `normalize.less` sets `[hidden] { display: none; }` but bootstrap.min.css set `[hidden] { display: none !important; }` so we also need the `!important` here to be able to override the default hidden behavior on the sphinx rendered scikit-learn.org. See: https://github.com/scikit-learn/scikit-learn/issues/21755 */display: inline-block !important;position: relative;}#sk-container-id-5 div.sk-text-repr-fallback {display: none;}</style><div id=\"sk-container-id-5\" class=\"sk-top-container\"><div class=\"sk-text-repr-fallback\"><pre>SVC()</pre><b>In a Jupyter environment, please rerun this cell to show the HTML representation or trust the notebook. <br />On GitHub, the HTML representation is unable to render, please try loading this page with nbviewer.org.</b></div><div class=\"sk-container\" hidden><div class=\"sk-item\"><div class=\"sk-estimator sk-toggleable\"><input class=\"sk-toggleable__control sk-hidden--visually\" id=\"sk-estimator-id-5\" type=\"checkbox\" checked><label for=\"sk-estimator-id-5\" class=\"sk-toggleable__label sk-toggleable__label-arrow\">SVC</label><div class=\"sk-toggleable__content\"><pre>SVC()</pre></div></div></div></div></div>"
      ],
      "text/plain": [
       "SVC()"
      ]
     },
     "execution_count": 189,
     "metadata": {},
     "output_type": "execute_result"
    }
   ],
   "source": [
    "%%time\n",
    "svc_model=SVC()\n",
    "svc_model.fit(x_train,y_train)"
   ]
  },
  {
   "cell_type": "code",
   "execution_count": 190,
   "id": "db99ef41-0511-4f86-a140-ba45c1836193",
   "metadata": {},
   "outputs": [
    {
     "name": "stdout",
     "output_type": "stream",
     "text": [
      "Test Accuracy =  0.5145631067961165 \n",
      "\n",
      "Test Confusion Matrix =  \n",
      " [[  2  97]\n",
      " [  3 104]] \n",
      "\n",
      "Test Classification Report =  \n",
      "               precision    recall  f1-score   support\n",
      "\n",
      "           0       0.40      0.02      0.04        99\n",
      "           1       0.52      0.97      0.68       107\n",
      "\n",
      "    accuracy                           0.51       206\n",
      "   macro avg       0.46      0.50      0.36       206\n",
      "weighted avg       0.46      0.51      0.37       206\n",
      "\n",
      "Wall time: 25 ms\n"
     ]
    }
   ],
   "source": [
    "%%time\n",
    "y_pred_test=svc_model.predict(x_test)\n",
    "test_accuracy=accuracy_score(y_test,y_pred_test)\n",
    "test_cfg_matrix=confusion_matrix(y_test,y_pred_test)\n",
    "test_clf_report=classification_report(y_test,y_pred_test)\n",
    "print('Test Accuracy = ',test_accuracy,'\\n')\n",
    "print('Test Confusion Matrix = ','\\n',test_cfg_matrix,'\\n')\n",
    "print('Test Classification Report = ','\\n',test_clf_report)"
   ]
  },
  {
   "cell_type": "code",
   "execution_count": 191,
   "id": "d4078504-4207-47c1-a756-a62e96fa96b8",
   "metadata": {},
   "outputs": [
    {
     "name": "stdout",
     "output_type": "stream",
     "text": [
      "train Accuracy =  0.5357142857142857 \n",
      "\n",
      "train Confusion Matrix =  \n",
      " [[ 18 283]\n",
      " [  3 312]] \n",
      "\n",
      "train Classification Report =  \n",
      "               precision    recall  f1-score   support\n",
      "\n",
      "           0       0.86      0.06      0.11       301\n",
      "           1       0.52      0.99      0.69       315\n",
      "\n",
      "    accuracy                           0.54       616\n",
      "   macro avg       0.69      0.53      0.40       616\n",
      "weighted avg       0.69      0.54      0.41       616\n",
      "\n",
      "Wall time: 44.1 ms\n"
     ]
    }
   ],
   "source": [
    "%%time\n",
    "y_pred_train=svc_model.predict(x_train)\n",
    "train_accuracy=accuracy_score(y_train,y_pred_train)\n",
    "train_cfg_matrix=confusion_matrix(y_train,y_pred_train)\n",
    "train_clf_report=classification_report(y_train,y_pred_train)\n",
    "print('train Accuracy = ',train_accuracy,'\\n')\n",
    "print('train Confusion Matrix = ','\\n',train_cfg_matrix,'\\n')\n",
    "print('train Classification Report = ','\\n',train_clf_report)"
   ]
  },
  {
   "cell_type": "code",
   "execution_count": 192,
   "id": "b85c7ad6-35a2-4f0f-ba66-85bc3a394b26",
   "metadata": {},
   "outputs": [
    {
     "name": "stdout",
     "output_type": "stream",
     "text": [
      "XGBCLASSIFIER\n",
      "Variance is  2.11511789181692\n",
      "Bias is  41.42857142857142\n"
     ]
    }
   ],
   "source": [
    "print('XGBCLASSIFIER')\n",
    "print('Variance is ',(train_accuracy-test_accuracy)*100)\n",
    "print('Bias is ',(0.95-train_accuracy)*100)"
   ]
  },
  {
   "cell_type": "markdown",
   "id": "224af203-2d52-4e3d-b4af-8a058d284935",
   "metadata": {},
   "source": [
    "## Hyperparameter Tuning"
   ]
  },
  {
   "cell_type": "code",
   "execution_count": 193,
   "id": "0b00ce0c-49ce-48b0-bbc1-e37bfbfd759e",
   "metadata": {},
   "outputs": [],
   "source": [
    "# From above all models we can see that the base models RandomForestClassifier and XGBClassifier give more accurate answers.\n",
    "# Hence we choose those models for hyperparameter tuning"
   ]
  },
  {
   "cell_type": "markdown",
   "id": "d1cf4ec2-c0a8-43ca-8f03-adbd6bdc5b12",
   "metadata": {},
   "source": [
    "### Optimal Random Forest Classifier"
   ]
  },
  {
   "cell_type": "code",
   "execution_count": 194,
   "id": "0ad72821-49da-4c18-a8a2-eef19aab743d",
   "metadata": {},
   "outputs": [],
   "source": [
    "x_train_hyp,x_test_hyp,y_train_hyp,y_test_hyp=train_test_split(x_sampled,y_sampled,random_state=13,test_size=0.30)"
   ]
  },
  {
   "cell_type": "code",
   "execution_count": 195,
   "id": "1a149f5e-a6b1-47cf-a7cf-32c57e846abf",
   "metadata": {},
   "outputs": [
    {
     "name": "stdout",
     "output_type": "stream",
     "text": [
      "Wall time: 13.3 s\n"
     ]
    },
    {
     "data": {
      "text/html": [
       "<style>#sk-container-id-6 {color: black;background-color: white;}#sk-container-id-6 pre{padding: 0;}#sk-container-id-6 div.sk-toggleable {background-color: white;}#sk-container-id-6 label.sk-toggleable__label {cursor: pointer;display: block;width: 100%;margin-bottom: 0;padding: 0.3em;box-sizing: border-box;text-align: center;}#sk-container-id-6 label.sk-toggleable__label-arrow:before {content: \"▸\";float: left;margin-right: 0.25em;color: #696969;}#sk-container-id-6 label.sk-toggleable__label-arrow:hover:before {color: black;}#sk-container-id-6 div.sk-estimator:hover label.sk-toggleable__label-arrow:before {color: black;}#sk-container-id-6 div.sk-toggleable__content {max-height: 0;max-width: 0;overflow: hidden;text-align: left;background-color: #f0f8ff;}#sk-container-id-6 div.sk-toggleable__content pre {margin: 0.2em;color: black;border-radius: 0.25em;background-color: #f0f8ff;}#sk-container-id-6 input.sk-toggleable__control:checked~div.sk-toggleable__content {max-height: 200px;max-width: 100%;overflow: auto;}#sk-container-id-6 input.sk-toggleable__control:checked~label.sk-toggleable__label-arrow:before {content: \"▾\";}#sk-container-id-6 div.sk-estimator input.sk-toggleable__control:checked~label.sk-toggleable__label {background-color: #d4ebff;}#sk-container-id-6 div.sk-label input.sk-toggleable__control:checked~label.sk-toggleable__label {background-color: #d4ebff;}#sk-container-id-6 input.sk-hidden--visually {border: 0;clip: rect(1px 1px 1px 1px);clip: rect(1px, 1px, 1px, 1px);height: 1px;margin: -1px;overflow: hidden;padding: 0;position: absolute;width: 1px;}#sk-container-id-6 div.sk-estimator {font-family: monospace;background-color: #f0f8ff;border: 1px dotted black;border-radius: 0.25em;box-sizing: border-box;margin-bottom: 0.5em;}#sk-container-id-6 div.sk-estimator:hover {background-color: #d4ebff;}#sk-container-id-6 div.sk-parallel-item::after {content: \"\";width: 100%;border-bottom: 1px solid gray;flex-grow: 1;}#sk-container-id-6 div.sk-label:hover label.sk-toggleable__label {background-color: #d4ebff;}#sk-container-id-6 div.sk-serial::before {content: \"\";position: absolute;border-left: 1px solid gray;box-sizing: border-box;top: 0;bottom: 0;left: 50%;z-index: 0;}#sk-container-id-6 div.sk-serial {display: flex;flex-direction: column;align-items: center;background-color: white;padding-right: 0.2em;padding-left: 0.2em;position: relative;}#sk-container-id-6 div.sk-item {position: relative;z-index: 1;}#sk-container-id-6 div.sk-parallel {display: flex;align-items: stretch;justify-content: center;background-color: white;position: relative;}#sk-container-id-6 div.sk-item::before, #sk-container-id-6 div.sk-parallel-item::before {content: \"\";position: absolute;border-left: 1px solid gray;box-sizing: border-box;top: 0;bottom: 0;left: 50%;z-index: -1;}#sk-container-id-6 div.sk-parallel-item {display: flex;flex-direction: column;z-index: 1;position: relative;background-color: white;}#sk-container-id-6 div.sk-parallel-item:first-child::after {align-self: flex-end;width: 50%;}#sk-container-id-6 div.sk-parallel-item:last-child::after {align-self: flex-start;width: 50%;}#sk-container-id-6 div.sk-parallel-item:only-child::after {width: 0;}#sk-container-id-6 div.sk-dashed-wrapped {border: 1px dashed gray;margin: 0 0.4em 0.5em 0.4em;box-sizing: border-box;padding-bottom: 0.4em;background-color: white;}#sk-container-id-6 div.sk-label label {font-family: monospace;font-weight: bold;display: inline-block;line-height: 1.2em;}#sk-container-id-6 div.sk-label-container {text-align: center;}#sk-container-id-6 div.sk-container {/* jupyter's `normalize.less` sets `[hidden] { display: none; }` but bootstrap.min.css set `[hidden] { display: none !important; }` so we also need the `!important` here to be able to override the default hidden behavior on the sphinx rendered scikit-learn.org. See: https://github.com/scikit-learn/scikit-learn/issues/21755 */display: inline-block !important;position: relative;}#sk-container-id-6 div.sk-text-repr-fallback {display: none;}</style><div id=\"sk-container-id-6\" class=\"sk-top-container\"><div class=\"sk-text-repr-fallback\"><pre>RandomForestClassifier(max_depth=17, min_samples_leaf=3, min_samples_split=6,\n",
       "                       n_estimators=135)</pre><b>In a Jupyter environment, please rerun this cell to show the HTML representation or trust the notebook. <br />On GitHub, the HTML representation is unable to render, please try loading this page with nbviewer.org.</b></div><div class=\"sk-container\" hidden><div class=\"sk-item\"><div class=\"sk-estimator sk-toggleable\"><input class=\"sk-toggleable__control sk-hidden--visually\" id=\"sk-estimator-id-6\" type=\"checkbox\" checked><label for=\"sk-estimator-id-6\" class=\"sk-toggleable__label sk-toggleable__label-arrow\">RandomForestClassifier</label><div class=\"sk-toggleable__content\"><pre>RandomForestClassifier(max_depth=17, min_samples_leaf=3, min_samples_split=6,\n",
       "                       n_estimators=135)</pre></div></div></div></div></div>"
      ],
      "text/plain": [
       "RandomForestClassifier(max_depth=17, min_samples_leaf=3, min_samples_split=6,\n",
       "                       n_estimators=135)"
      ]
     },
     "execution_count": 195,
     "metadata": {},
     "output_type": "execute_result"
    }
   ],
   "source": [
    "%%time\n",
    "model1=RandomForestClassifier()\n",
    "param_dict={'n_estimators':np.arange(80,150,5),\n",
    "    'criterion':['gini','entropy'],\n",
    "    'max_depth':np.arange(4,20,1),\n",
    "    'min_samples_split':np.arange(2,8,1),\n",
    "    'min_samples_leaf':np.arange(2,8,1)}\n",
    "rscv=RandomizedSearchCV(model1,param_dict,cv=10)\n",
    "rscv.fit(x_train_hyp,y_train_hyp)\n",
    "optimal_rfc_model=rscv.best_estimator_\n",
    "optimal_rfc_model"
   ]
  },
  {
   "cell_type": "code",
   "execution_count": 196,
   "id": "5c37a6c1-3a1f-4f48-be8f-582b6e924dc3",
   "metadata": {},
   "outputs": [
    {
     "data": {
      "text/html": [
       "<style>#sk-container-id-7 {color: black;background-color: white;}#sk-container-id-7 pre{padding: 0;}#sk-container-id-7 div.sk-toggleable {background-color: white;}#sk-container-id-7 label.sk-toggleable__label {cursor: pointer;display: block;width: 100%;margin-bottom: 0;padding: 0.3em;box-sizing: border-box;text-align: center;}#sk-container-id-7 label.sk-toggleable__label-arrow:before {content: \"▸\";float: left;margin-right: 0.25em;color: #696969;}#sk-container-id-7 label.sk-toggleable__label-arrow:hover:before {color: black;}#sk-container-id-7 div.sk-estimator:hover label.sk-toggleable__label-arrow:before {color: black;}#sk-container-id-7 div.sk-toggleable__content {max-height: 0;max-width: 0;overflow: hidden;text-align: left;background-color: #f0f8ff;}#sk-container-id-7 div.sk-toggleable__content pre {margin: 0.2em;color: black;border-radius: 0.25em;background-color: #f0f8ff;}#sk-container-id-7 input.sk-toggleable__control:checked~div.sk-toggleable__content {max-height: 200px;max-width: 100%;overflow: auto;}#sk-container-id-7 input.sk-toggleable__control:checked~label.sk-toggleable__label-arrow:before {content: \"▾\";}#sk-container-id-7 div.sk-estimator input.sk-toggleable__control:checked~label.sk-toggleable__label {background-color: #d4ebff;}#sk-container-id-7 div.sk-label input.sk-toggleable__control:checked~label.sk-toggleable__label {background-color: #d4ebff;}#sk-container-id-7 input.sk-hidden--visually {border: 0;clip: rect(1px 1px 1px 1px);clip: rect(1px, 1px, 1px, 1px);height: 1px;margin: -1px;overflow: hidden;padding: 0;position: absolute;width: 1px;}#sk-container-id-7 div.sk-estimator {font-family: monospace;background-color: #f0f8ff;border: 1px dotted black;border-radius: 0.25em;box-sizing: border-box;margin-bottom: 0.5em;}#sk-container-id-7 div.sk-estimator:hover {background-color: #d4ebff;}#sk-container-id-7 div.sk-parallel-item::after {content: \"\";width: 100%;border-bottom: 1px solid gray;flex-grow: 1;}#sk-container-id-7 div.sk-label:hover label.sk-toggleable__label {background-color: #d4ebff;}#sk-container-id-7 div.sk-serial::before {content: \"\";position: absolute;border-left: 1px solid gray;box-sizing: border-box;top: 0;bottom: 0;left: 50%;z-index: 0;}#sk-container-id-7 div.sk-serial {display: flex;flex-direction: column;align-items: center;background-color: white;padding-right: 0.2em;padding-left: 0.2em;position: relative;}#sk-container-id-7 div.sk-item {position: relative;z-index: 1;}#sk-container-id-7 div.sk-parallel {display: flex;align-items: stretch;justify-content: center;background-color: white;position: relative;}#sk-container-id-7 div.sk-item::before, #sk-container-id-7 div.sk-parallel-item::before {content: \"\";position: absolute;border-left: 1px solid gray;box-sizing: border-box;top: 0;bottom: 0;left: 50%;z-index: -1;}#sk-container-id-7 div.sk-parallel-item {display: flex;flex-direction: column;z-index: 1;position: relative;background-color: white;}#sk-container-id-7 div.sk-parallel-item:first-child::after {align-self: flex-end;width: 50%;}#sk-container-id-7 div.sk-parallel-item:last-child::after {align-self: flex-start;width: 50%;}#sk-container-id-7 div.sk-parallel-item:only-child::after {width: 0;}#sk-container-id-7 div.sk-dashed-wrapped {border: 1px dashed gray;margin: 0 0.4em 0.5em 0.4em;box-sizing: border-box;padding-bottom: 0.4em;background-color: white;}#sk-container-id-7 div.sk-label label {font-family: monospace;font-weight: bold;display: inline-block;line-height: 1.2em;}#sk-container-id-7 div.sk-label-container {text-align: center;}#sk-container-id-7 div.sk-container {/* jupyter's `normalize.less` sets `[hidden] { display: none; }` but bootstrap.min.css set `[hidden] { display: none !important; }` so we also need the `!important` here to be able to override the default hidden behavior on the sphinx rendered scikit-learn.org. See: https://github.com/scikit-learn/scikit-learn/issues/21755 */display: inline-block !important;position: relative;}#sk-container-id-7 div.sk-text-repr-fallback {display: none;}</style><div id=\"sk-container-id-7\" class=\"sk-top-container\"><div class=\"sk-text-repr-fallback\"><pre>RandomForestClassifier(max_depth=17, min_samples_leaf=3, min_samples_split=6,\n",
       "                       n_estimators=135)</pre><b>In a Jupyter environment, please rerun this cell to show the HTML representation or trust the notebook. <br />On GitHub, the HTML representation is unable to render, please try loading this page with nbviewer.org.</b></div><div class=\"sk-container\" hidden><div class=\"sk-item\"><div class=\"sk-estimator sk-toggleable\"><input class=\"sk-toggleable__control sk-hidden--visually\" id=\"sk-estimator-id-7\" type=\"checkbox\" checked><label for=\"sk-estimator-id-7\" class=\"sk-toggleable__label sk-toggleable__label-arrow\">RandomForestClassifier</label><div class=\"sk-toggleable__content\"><pre>RandomForestClassifier(max_depth=17, min_samples_leaf=3, min_samples_split=6,\n",
       "                       n_estimators=135)</pre></div></div></div></div></div>"
      ],
      "text/plain": [
       "RandomForestClassifier(max_depth=17, min_samples_leaf=3, min_samples_split=6,\n",
       "                       n_estimators=135)"
      ]
     },
     "execution_count": 196,
     "metadata": {},
     "output_type": "execute_result"
    }
   ],
   "source": [
    "optimal_rfc_model.fit(x_train_hyp,y_train_hyp)"
   ]
  },
  {
   "cell_type": "code",
   "execution_count": 197,
   "id": "83f3b398-7448-4cc3-bfa1-1d2d608f8346",
   "metadata": {},
   "outputs": [
    {
     "name": "stdout",
     "output_type": "stream",
     "text": [
      "Test Accuracy =  0.7894736842105263 \n",
      "\n",
      "Test Confusion Matrix =  \n",
      " [[ 79  35]\n",
      " [ 17 116]] \n",
      "\n",
      "Test Classification Report =  \n",
      "               precision    recall  f1-score   support\n",
      "\n",
      "           0       0.82      0.69      0.75       114\n",
      "           1       0.77      0.87      0.82       133\n",
      "\n",
      "    accuracy                           0.79       247\n",
      "   macro avg       0.80      0.78      0.78       247\n",
      "weighted avg       0.79      0.79      0.79       247\n",
      "\n",
      "Wall time: 23.7 ms\n"
     ]
    }
   ],
   "source": [
    "%%time\n",
    "y_pred_test=optimal_rfc_model.predict(x_test_hyp)\n",
    "test_accuracy=accuracy_score(y_test_hyp,y_pred_test)\n",
    "test_cfg_matrix=confusion_matrix(y_test_hyp,y_pred_test)\n",
    "test_clf_report=classification_report(y_test_hyp,y_pred_test)\n",
    "print('Test Accuracy = ',test_accuracy,'\\n')\n",
    "print('Test Confusion Matrix = ','\\n',test_cfg_matrix,'\\n')\n",
    "print('Test Classification Report = ','\\n',test_clf_report)"
   ]
  },
  {
   "cell_type": "code",
   "execution_count": 198,
   "id": "d4c12423-76dc-4d0b-8be3-bec3e8da7b25",
   "metadata": {},
   "outputs": [
    {
     "name": "stdout",
     "output_type": "stream",
     "text": [
      "train Accuracy =  0.9269565217391305 \n",
      "\n",
      "train Confusion Matrix =  \n",
      " [[259  27]\n",
      " [ 15 274]] \n",
      "\n",
      "train Classification Report =  \n",
      "               precision    recall  f1-score   support\n",
      "\n",
      "           0       0.95      0.91      0.93       286\n",
      "           1       0.91      0.95      0.93       289\n",
      "\n",
      "    accuracy                           0.93       575\n",
      "   macro avg       0.93      0.93      0.93       575\n",
      "weighted avg       0.93      0.93      0.93       575\n",
      "\n",
      "Wall time: 27.8 ms\n"
     ]
    }
   ],
   "source": [
    "%%time\n",
    "y_pred_train=optimal_rfc_model.predict(x_train_hyp)\n",
    "train_accuracy=accuracy_score(y_train_hyp,y_pred_train)\n",
    "train_cfg_matrix=confusion_matrix(y_train_hyp,y_pred_train)\n",
    "train_clf_report=classification_report(y_train_hyp,y_pred_train)\n",
    "print('train Accuracy = ',train_accuracy,'\\n')\n",
    "print('train Confusion Matrix = ','\\n',train_cfg_matrix,'\\n')\n",
    "print('train Classification Report = ','\\n',train_clf_report)"
   ]
  },
  {
   "cell_type": "markdown",
   "id": "605c0e4a-239e-49fc-85d7-c53ebb47f27d",
   "metadata": {},
   "source": [
    "##### Both variance and bias has improved"
   ]
  },
  {
   "cell_type": "code",
   "execution_count": 199,
   "id": "144cc6a9-fa4d-4701-a051-5b61e6485724",
   "metadata": {},
   "outputs": [
    {
     "name": "stdout",
     "output_type": "stream",
     "text": [
      "XGBCLASSIFIER\n",
      "Variance is  13.748283752860413\n",
      "Bias is  2.30434782608695\n"
     ]
    }
   ],
   "source": [
    "print('XGBCLASSIFIER')\n",
    "print('Variance is ',(train_accuracy-test_accuracy)*100)\n",
    "print('Bias is ',(0.95-train_accuracy)*100)"
   ]
  },
  {
   "cell_type": "code",
   "execution_count": 237,
   "id": "398697c8-1f04-4f50-acbe-1f9dcf60507f",
   "metadata": {},
   "outputs": [
    {
     "data": {
      "text/plain": [
       "<sklearn.metrics._plot.roc_curve.RocCurveDisplay at 0x26e42843fd0>"
      ]
     },
     "execution_count": 237,
     "metadata": {},
     "output_type": "execute_result"
    },
    {
     "data": {
      "image/png": "[encoded data removed]",
      "text/plain": [
       "<Figure size 432x288 with 1 Axes>"
      ]
     },
     "metadata": {
      "needs_background": "light"
     },
     "output_type": "display_data"
    }
   ],
   "source": [
    "plot_roc_curve(optimal_rfc_model,x_test,y_test)"
   ]
  },
  {
   "cell_type": "code",
   "execution_count": 238,
   "id": "2495dcbb-7bdf-40c8-a709-d674c8b26161",
   "metadata": {},
   "outputs": [
    {
     "data": {
      "text/plain": [
       "<AxesSubplot:xlabel='Feature Name'>"
      ]
     },
     "execution_count": 238,
     "metadata": {},
     "output_type": "execute_result"
    },
    {
     "data": {
      "image/png": "[encoded data removed]",
      "text/plain": [
       "<Figure size 432x288 with 1 Axes>"
      ]
     },
     "metadata": {
      "needs_background": "light"
     },
     "output_type": "display_data"
    }
   ],
   "source": [
    "optimal_df_imp_features=pd.DataFrame({'Feature Name':x.columns,'Feature Score':optimal_rfc_model.feature_importances_})\n",
    "optimal_df_imp_features.plot(0,kind='bar')            \n",
    "\n",
    "## More the feature score , more important it is."
   ]
  },
  {
   "cell_type": "markdown",
   "id": "937b9de2-d4f6-40f8-9968-7607330d4f53",
   "metadata": {},
   "source": [
    "#### Storing all the important attributes in pickle file"
   ]
  },
  {
   "cell_type": "code",
   "execution_count": 200,
   "id": "80b428e6-466a-4fe6-b8fd-f770440f6839",
   "metadata": {},
   "outputs": [],
   "source": [
    "with open(r'C:\\Users\\Omkar\\Desktop\\Practice\\Datasets\\Loan Prediction\\artifacts\\rfc_model.pkl','wb') as file:\n",
    "    pkl.dump(rfc_model,file)"
   ]
  },
  {
   "cell_type": "code",
   "execution_count": 201,
   "id": "793489bd-b30d-4f8d-87c8-bbca39d39a3f",
   "metadata": {},
   "outputs": [],
   "source": [
    "with open(r'C:\\Users\\Omkar\\Desktop\\Practice\\Datasets\\Loan Prediction\\artifacts\\optimal_rfc_model.pkl','wb') as file1:\n",
    "    pkl.dump(optimal_rfc_model,file1)"
   ]
  },
  {
   "cell_type": "code",
   "execution_count": 202,
   "id": "4ee33887-18bc-4ae3-a6b3-b4cf01207986",
   "metadata": {},
   "outputs": [],
   "source": [
    "with open(r'C:\\Users\\Omkar\\Desktop\\Practice\\Datasets\\Loan Prediction\\artifacts\\ai_scaler.pkl','wb') as file2:\n",
    "    pkl.dump(ai_scaler,file2)"
   ]
  },
  {
   "cell_type": "code",
   "execution_count": 203,
   "id": "b25b3ea8-1ba0-43b3-87b8-267f997af5a2",
   "metadata": {},
   "outputs": [],
   "source": [
    "with open(r'C:\\Users\\Omkar\\Desktop\\Practice\\Datasets\\Loan Prediction\\artifacts\\cai_scaler.pkl','wb') as file3:\n",
    "    pkl.dump(cai_scaler,file3)"
   ]
  },
  {
   "cell_type": "code",
   "execution_count": 204,
   "id": "a91c29f0-8573-4104-bf1a-a0ac6944dcba",
   "metadata": {},
   "outputs": [],
   "source": [
    "with open(r'C:\\Users\\Omkar\\Desktop\\Practice\\Datasets\\Loan Prediction\\artifacts\\la_scaler.pkl','wb') as file4:\n",
    "    pkl.dump(la_scaler,file4)"
   ]
  },
  {
   "cell_type": "code",
   "execution_count": 205,
   "id": "6e3fb01b-17a7-4b9f-b9ef-2b68115c06af",
   "metadata": {},
   "outputs": [],
   "source": [
    "with open(r'C:\\Users\\Omkar\\Desktop\\Practice\\Datasets\\Loan Prediction\\artifacts\\xgb_model.pkl','wb') as file5:\n",
    "    pkl.dump(xgb_model,file5)"
   ]
  },
  {
   "cell_type": "code",
   "execution_count": null,
   "id": "d79e06d6-8a01-4a56-84f1-e8eeca0fdf11",
   "metadata": {},
   "outputs": [],
   "source": []
  }
 ],
 "metadata": {
  "kernelspec": {
   "display_name": "Python 3 (ipykernel)",
   "language": "python",
   "name": "python3"
  },
  "language_info": {
   "codemirror_mode": {
    "name": "ipython",
    "version": 3
   },
   "file_extension": ".py",
   "mimetype": "text/x-python",
   "name": "python",
   "nbconvert_exporter": "python",
   "pygments_lexer": "ipython3",
   "version": "3.9.7"
  }
 },
 "nbformat": 4,
 "nbformat_minor": 5
}
